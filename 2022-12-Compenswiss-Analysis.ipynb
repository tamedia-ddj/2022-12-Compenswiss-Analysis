{
 "cells": [
  {
   "cell_type": "code",
   "execution_count": 74,
   "id": "9ea18cd9",
   "metadata": {},
   "outputs": [],
   "source": [
    "import pandas as pd\n",
    "import re\n",
    "import numpy as np\n",
    "pd.options.display.max_columns = None\n",
    "pd.options.display.max_rows = None"
   ]
  },
  {
   "cell_type": "markdown",
   "id": "6d1a821e",
   "metadata": {},
   "source": [
    "## Charger l'extraction Tabula"
   ]
  },
  {
   "cell_type": "code",
   "execution_count": 75,
   "id": "0a9e2edd",
   "metadata": {},
   "outputs": [],
   "source": [
    "df = pd.read_csv('tabula-compenswiss - list of positions - 30.06.2022.csv')"
   ]
  },
  {
   "cell_type": "code",
   "execution_count": null,
   "id": "3cbcad79",
   "metadata": {},
   "outputs": [],
   "source": []
  },
  {
   "cell_type": "markdown",
   "id": "1e322e51",
   "metadata": {},
   "source": [
    "## Nettoyer l'extraction Tabula\n",
    "J'ai gardé les entêtes de chaque page pour garder les bonnes colonnes lors de l'extraction. On a plus besoin de ces entêtes."
   ]
  },
  {
   "cell_type": "code",
   "execution_count": 77,
   "id": "cf80d70f",
   "metadata": {},
   "outputs": [],
   "source": [
    "df = df[df['ISIN'] != 'ISIN']"
   ]
  },
  {
   "cell_type": "markdown",
   "id": "92f50fc0",
   "metadata": {},
   "source": [
    "Formate les nombres"
   ]
  },
  {
   "cell_type": "code",
   "execution_count": 78,
   "id": "20b71379",
   "metadata": {},
   "outputs": [
    {
     "name": "stderr",
     "output_type": "stream",
     "text": [
      "<ipython-input-78-6ce08ba86458>:2: SettingWithCopyWarning: \n",
      "A value is trying to be set on a copy of a slice from a DataFrame.\n",
      "Try using .loc[row_indexer,col_indexer] = value instead\n",
      "\n",
      "See the caveats in the documentation: https://pandas.pydata.org/pandas-docs/stable/user_guide/indexing.html#returning-a-view-versus-a-copy\n",
      "  df['Market Value CHF'] = df['Market Value CHF'].replace(\"'\",'', regex=True)\n",
      "<ipython-input-78-6ce08ba86458>:5: SettingWithCopyWarning: \n",
      "A value is trying to be set on a copy of a slice from a DataFrame.\n",
      "Try using .loc[row_indexer,col_indexer] = value instead\n",
      "\n",
      "See the caveats in the documentation: https://pandas.pydata.org/pandas-docs/stable/user_guide/indexing.html#returning-a-view-versus-a-copy\n",
      "  df['Market Value CHF'] = df['Market Value CHF'].replace(\"\\..*\",'', regex=True)\n",
      "<ipython-input-78-6ce08ba86458>:8: SettingWithCopyWarning: \n",
      "A value is trying to be set on a copy of a slice from a DataFrame.\n",
      "Try using .loc[row_indexer,col_indexer] = value instead\n",
      "\n",
      "See the caveats in the documentation: https://pandas.pydata.org/pandas-docs/stable/user_guide/indexing.html#returning-a-view-versus-a-copy\n",
      "  df['Market Value CHF'] = df['Market Value CHF'].astype(int)\n"
     ]
    }
   ],
   "source": [
    "# Supprime les séparateurs de milliers\n",
    "df['Market Value CHF'] = df['Market Value CHF'].replace(\"'\",'', regex=True)\n",
    "\n",
    "# Supprime les décimales\n",
    "df['Market Value CHF'] = df['Market Value CHF'].replace(\"\\..*\",'', regex=True)\n",
    "\n",
    "# Convertit les montants en entiers\n",
    "df['Market Value CHF'] = df['Market Value CHF'].astype(int)"
   ]
  },
  {
   "cell_type": "code",
   "execution_count": 79,
   "id": "89a2f1b2",
   "metadata": {},
   "outputs": [
    {
     "data": {
      "text/html": [
       "<div>\n",
       "<style scoped>\n",
       "    .dataframe tbody tr th:only-of-type {\n",
       "        vertical-align: middle;\n",
       "    }\n",
       "\n",
       "    .dataframe tbody tr th {\n",
       "        vertical-align: top;\n",
       "    }\n",
       "\n",
       "    .dataframe thead th {\n",
       "        text-align: right;\n",
       "    }\n",
       "</style>\n",
       "<table border=\"1\" class=\"dataframe\">\n",
       "  <thead>\n",
       "    <tr style=\"text-align: right;\">\n",
       "      <th></th>\n",
       "      <th>ISIN</th>\n",
       "      <th>Asset Class</th>\n",
       "      <th>Description</th>\n",
       "      <th>Nominal/Quantity</th>\n",
       "      <th>Market Value CHF</th>\n",
       "    </tr>\n",
       "  </thead>\n",
       "  <tbody>\n",
       "    <tr>\n",
       "      <th>0</th>\n",
       "      <td>XS2459025909</td>\n",
       "      <td>Money market Investments</td>\n",
       "      <td>0 ALLZ 22 ECP</td>\n",
       "      <td>EUR 3'000'000</td>\n",
       "      <td>3008851</td>\n",
       "    </tr>\n",
       "    <tr>\n",
       "      <th>1</th>\n",
       "      <td>CH0496692960</td>\n",
       "      <td>Money market Investments</td>\n",
       "      <td>0 BALOISE HLDG 22</td>\n",
       "      <td>CHF 8'100'000</td>\n",
       "      <td>8108100</td>\n",
       "    </tr>\n",
       "    <tr>\n",
       "      <th>2</th>\n",
       "      <td>CH0496692960</td>\n",
       "      <td>Money market Investments</td>\n",
       "      <td>0 BALOISE HLDG 22</td>\n",
       "      <td>CHF 8'400'000</td>\n",
       "      <td>8392440</td>\n",
       "    </tr>\n",
       "    <tr>\n",
       "      <th>3</th>\n",
       "      <td>CH0496692960</td>\n",
       "      <td>Money market Investments</td>\n",
       "      <td>0 BALOISE HLDG 22</td>\n",
       "      <td>CHF 1'000'000</td>\n",
       "      <td>999100</td>\n",
       "    </tr>\n",
       "    <tr>\n",
       "      <th>4</th>\n",
       "      <td>CH0407153342</td>\n",
       "      <td>Money market Investments</td>\n",
       "      <td>0 BLKB 23</td>\n",
       "      <td>CHF 5'000'000</td>\n",
       "      <td>4972500</td>\n",
       "    </tr>\n",
       "  </tbody>\n",
       "</table>\n",
       "</div>"
      ],
      "text/plain": [
       "           ISIN               Asset Class        Description Nominal/Quantity  \\\n",
       "0  XS2459025909  Money market Investments      0 ALLZ 22 ECP    EUR 3'000'000   \n",
       "1  CH0496692960  Money market Investments  0 BALOISE HLDG 22    CHF 8'100'000   \n",
       "2  CH0496692960  Money market Investments  0 BALOISE HLDG 22    CHF 8'400'000   \n",
       "3  CH0496692960  Money market Investments  0 BALOISE HLDG 22    CHF 1'000'000   \n",
       "4  CH0407153342  Money market Investments          0 BLKB 23    CHF 5'000'000   \n",
       "\n",
       "   Market Value CHF  \n",
       "0           3008851  \n",
       "1           8108100  \n",
       "2           8392440  \n",
       "3            999100  \n",
       "4           4972500  "
      ]
     },
     "execution_count": 79,
     "metadata": {},
     "output_type": "execute_result"
    }
   ],
   "source": [
    "df.head()"
   ]
  },
  {
   "cell_type": "markdown",
   "id": "c1aecedb",
   "metadata": {},
   "source": [
    "## Vérifier les montants"
   ]
  },
  {
   "cell_type": "code",
   "execution_count": 80,
   "id": "62def444",
   "metadata": {},
   "outputs": [
    {
     "data": {
      "text/plain": [
       "34454523303"
      ]
     },
     "execution_count": 80,
     "metadata": {},
     "output_type": "execute_result"
    }
   ],
   "source": [
    "df['Market Value CHF'].sum()"
   ]
  },
  {
   "cell_type": "code",
   "execution_count": 81,
   "id": "91e46483",
   "metadata": {},
   "outputs": [
    {
     "data": {
      "text/plain": [
       "5514"
      ]
     },
     "execution_count": 81,
     "metadata": {},
     "output_type": "execute_result"
    }
   ],
   "source": [
    "len(df)"
   ]
  },
  {
   "cell_type": "markdown",
   "id": "aa168a4a",
   "metadata": {},
   "source": [
    "## Mapping Bloomberg pour identifier les compagnies et leur catégorie d'activité\n"
   ]
  },
  {
   "cell_type": "code",
   "execution_count": 89,
   "id": "6cf5be07",
   "metadata": {},
   "outputs": [
    {
     "data": {
      "text/plain": [
       "20318"
      ]
     },
     "execution_count": 89,
     "metadata": {},
     "output_type": "execute_result"
    }
   ],
   "source": [
    "### Charger le fichier Bloomberg (Finanz & Wirtschaft)\n",
    "### Créer un dictionnaire avec des ISIN uniques pour identifier l'entreprise\n",
    "\n",
    "bloom = pd.read_excel('mapping.xlsx')\n",
    "len(bloom)"
   ]
  },
  {
   "cell_type": "code",
   "execution_count": 93,
   "id": "b83302af",
   "metadata": {},
   "outputs": [
    {
     "data": {
      "text/plain": [
       "2022-06-30    3911\n",
       "2021-12-31    1408\n",
       "2021-06-30     879\n",
       "2021-03-31     252\n",
       "Name: Date, dtype: int64"
      ]
     },
     "execution_count": 93,
     "metadata": {},
     "output_type": "execute_result"
    }
   ],
   "source": [
    "bloom['Date'].value_counts()"
   ]
  },
  {
   "cell_type": "code",
   "execution_count": 90,
   "id": "09078bc4",
   "metadata": {},
   "outputs": [],
   "source": [
    "bloom = bloom.drop_duplicates(subset=['ISIN'])"
   ]
  },
  {
   "cell_type": "code",
   "execution_count": 91,
   "id": "a3aa2898",
   "metadata": {},
   "outputs": [
    {
     "data": {
      "text/plain": [
       "6450"
      ]
     },
     "execution_count": 91,
     "metadata": {},
     "output_type": "execute_result"
    }
   ],
   "source": [
    "len(bloom)"
   ]
  },
  {
   "cell_type": "code",
   "execution_count": 92,
   "id": "e492ef54",
   "metadata": {},
   "outputs": [
    {
     "data": {
      "text/plain": [
       "2022-06-30    3911\n",
       "2021-12-31    1408\n",
       "2021-06-30     879\n",
       "2021-03-31     252\n",
       "Name: Date, dtype: int64"
      ]
     },
     "execution_count": 92,
     "metadata": {},
     "output_type": "execute_result"
    }
   ],
   "source": [
    "bloom['Date'].value_counts()"
   ]
  },
  {
   "cell_type": "code",
   "execution_count": 94,
   "id": "bd5e9a39",
   "metadata": {},
   "outputs": [
    {
     "data": {
      "text/html": [
       "<div>\n",
       "<style scoped>\n",
       "    .dataframe tbody tr th:only-of-type {\n",
       "        vertical-align: middle;\n",
       "    }\n",
       "\n",
       "    .dataframe tbody tr th {\n",
       "        vertical-align: top;\n",
       "    }\n",
       "\n",
       "    .dataframe thead th {\n",
       "        text-align: right;\n",
       "    }\n",
       "</style>\n",
       "<table border=\"1\" class=\"dataframe\">\n",
       "  <thead>\n",
       "    <tr style=\"text-align: right;\">\n",
       "      <th></th>\n",
       "      <th>ISIN</th>\n",
       "      <th>Date</th>\n",
       "      <th>Name</th>\n",
       "      <th>Ticker</th>\n",
       "      <th>Wertpapiertyp</th>\n",
       "      <th>Emittent</th>\n",
       "      <th>Company Name</th>\n",
       "      <th>Vollständiger Name</th>\n",
       "      <th>Kurzname</th>\n",
       "      <th>Gruppe</th>\n",
       "      <th>Sektor</th>\n",
       "      <th>Untergruppe</th>\n",
       "      <th>Country (P)</th>\n",
       "      <th>Country ISO</th>\n",
       "      <th>Land (Risiko)</th>\n",
       "      <th>Sitzland</th>\n",
       "    </tr>\n",
       "  </thead>\n",
       "  <tbody>\n",
       "    <tr>\n",
       "      <th>5705</th>\n",
       "      <td>XS1806130305</td>\n",
       "      <td>2021-12-31</td>\n",
       "      <td>CKHH 2 04/13/30</td>\n",
       "      <td>CKHH</td>\n",
       "      <td>Corporate Bonds</td>\n",
       "      <td>CK HUTCHISON EUR FIN 18</td>\n",
       "      <td>CK Hutchison Europe Finance 18 Ltd</td>\n",
       "      <td>CKHH 2 04/13/30</td>\n",
       "      <td>CK HUTCHISON E F</td>\n",
       "      <td>Retail</td>\n",
       "      <td>Consumer, Cyclical</td>\n",
       "      <td>Retail-Drug Store</td>\n",
       "      <td>United Kingdom</td>\n",
       "      <td>GB</td>\n",
       "      <td>GB</td>\n",
       "      <td>KY</td>\n",
       "    </tr>\n",
       "  </tbody>\n",
       "</table>\n",
       "</div>"
      ],
      "text/plain": [
       "              ISIN       Date             Name Ticker    Wertpapiertyp  \\\n",
       "5705  XS1806130305 2021-12-31  CKHH 2 04/13/30   CKHH  Corporate Bonds   \n",
       "\n",
       "                     Emittent                        Company Name  \\\n",
       "5705  CK HUTCHISON EUR FIN 18  CK Hutchison Europe Finance 18 Ltd   \n",
       "\n",
       "     Vollständiger Name          Kurzname  Gruppe              Sektor  \\\n",
       "5705    CKHH 2 04/13/30  CK HUTCHISON E F  Retail  Consumer, Cyclical   \n",
       "\n",
       "            Untergruppe     Country (P) Country ISO Land (Risiko) Sitzland  \n",
       "5705  Retail-Drug Store  United Kingdom          GB            GB       KY  "
      ]
     },
     "execution_count": 94,
     "metadata": {},
     "output_type": "execute_result"
    }
   ],
   "source": [
    "bloom.sample()"
   ]
  },
  {
   "cell_type": "code",
   "execution_count": 83,
   "id": "e1fa2749",
   "metadata": {},
   "outputs": [
    {
     "data": {
      "text/plain": [
       "both          5280\n",
       "right_only     234\n",
       "left_only        0\n",
       "Name: _merge, dtype: int64"
      ]
     },
     "execution_count": 83,
     "metadata": {},
     "output_type": "execute_result"
    }
   ],
   "source": [
    "df = pd.merge(bloom, df, on = \"ISIN\", how = \"right\", indicator = True)\n",
    "\n",
    "# 234 lignes du fichier Compenswiss ne peuvent pas être identifiées\n",
    "df['_merge'].value_counts()"
   ]
  },
  {
   "cell_type": "code",
   "execution_count": null,
   "id": "ff4899a8",
   "metadata": {},
   "outputs": [],
   "source": [
    "# Exemple\n",
    "\n",
    "df[df['ISIN'] == 'CA01626P3043']"
   ]
  },
  {
   "cell_type": "code",
   "execution_count": null,
   "id": "6f43c906",
   "metadata": {},
   "outputs": [],
   "source": [
    "df[df['_merge'] == 'right_only'].head()"
   ]
  },
  {
   "cell_type": "markdown",
   "id": "6340b492",
   "metadata": {},
   "source": [
    "## Tests for manual update"
   ]
  },
  {
   "cell_type": "code",
   "execution_count": null,
   "id": "474afa1d",
   "metadata": {},
   "outputs": [],
   "source": [
    "# Méthode pour combler les lacunes d'un dataframe avec un dataframe à la structure similaire"
   ]
  },
  {
   "cell_type": "code",
   "execution_count": null,
   "id": "4a8c60ec",
   "metadata": {},
   "outputs": [],
   "source": [
    "df1 = pd.DataFrame({'id':[1,2],\n",
    "                    'company': ['Novartis', np.NaN],\n",
    "                    'category': [np.NaN, \"NaN\"]\n",
    "                   })\n",
    "df2 = pd.DataFrame({'id': [1,2],\n",
    "                    'company': [np.NaN, 'Migros'],\n",
    "                    'category': [\"pharma\", \"retail\"]\n",
    "                   })\n",
    "\n",
    "df1 = df1.set_index(\"id\").combine_first(df2.set_index(\"id\")).reset_index()\n",
    "df1"
   ]
  },
  {
   "cell_type": "markdown",
   "id": "47f1747a",
   "metadata": {},
   "source": [
    "## Editing"
   ]
  },
  {
   "cell_type": "code",
   "execution_count": 85,
   "id": "20695fda",
   "metadata": {},
   "outputs": [],
   "source": [
    "# Charger le fichier contenant des ajouts manuels faits sur Google Sheets\n",
    "\n",
    "transfo = pd.DataFrame(pd.read_csv('transformations_manuelles.csv'))"
   ]
  },
  {
   "cell_type": "code",
   "execution_count": 95,
   "id": "77d915d3",
   "metadata": {},
   "outputs": [
    {
     "data": {
      "text/html": [
       "<div>\n",
       "<style scoped>\n",
       "    .dataframe tbody tr th:only-of-type {\n",
       "        vertical-align: middle;\n",
       "    }\n",
       "\n",
       "    .dataframe tbody tr th {\n",
       "        vertical-align: top;\n",
       "    }\n",
       "\n",
       "    .dataframe thead th {\n",
       "        text-align: right;\n",
       "    }\n",
       "</style>\n",
       "<table border=\"1\" class=\"dataframe\">\n",
       "  <thead>\n",
       "    <tr style=\"text-align: right;\">\n",
       "      <th></th>\n",
       "      <th>ISIN</th>\n",
       "      <th>Date</th>\n",
       "      <th>Name</th>\n",
       "      <th>Ticker</th>\n",
       "      <th>Wertpapiertyp</th>\n",
       "      <th>Emittent</th>\n",
       "      <th>Company Name</th>\n",
       "      <th>Vollständiger Name</th>\n",
       "      <th>Kurzname</th>\n",
       "      <th>Gruppe</th>\n",
       "      <th>Sektor</th>\n",
       "      <th>Untergruppe</th>\n",
       "      <th>Country (P)</th>\n",
       "      <th>Country ISO</th>\n",
       "      <th>Land (Risiko)</th>\n",
       "      <th>Sitzland</th>\n",
       "      <th>Asset Class</th>\n",
       "      <th>Description</th>\n",
       "      <th>Currency</th>\n",
       "      <th>Nominal/Quantity</th>\n",
       "      <th>Market Value CHF</th>\n",
       "      <th>Date.1</th>\n",
       "      <th>_merge</th>\n",
       "    </tr>\n",
       "  </thead>\n",
       "  <tbody>\n",
       "    <tr>\n",
       "      <th>0</th>\n",
       "      <td>XS2429878700</td>\n",
       "      <td>NaN</td>\n",
       "      <td>NaN</td>\n",
       "      <td>NaN</td>\n",
       "      <td>NaN</td>\n",
       "      <td>NaN</td>\n",
       "      <td>OP YRITYSPANK</td>\n",
       "      <td>NaN</td>\n",
       "      <td>NaN</td>\n",
       "      <td>Banks</td>\n",
       "      <td>NaN</td>\n",
       "      <td>NaN</td>\n",
       "      <td>NaN</td>\n",
       "      <td>NaN</td>\n",
       "      <td>NaN</td>\n",
       "      <td>NaN</td>\n",
       "      <td>Money market Investments</td>\n",
       "      <td>0 OPCB 23 ECP</td>\n",
       "      <td>NaN</td>\n",
       "      <td>USD 2'000'000</td>\n",
       "      <td>1903345</td>\n",
       "      <td>True</td>\n",
       "      <td>right_only</td>\n",
       "    </tr>\n",
       "    <tr>\n",
       "      <th>1</th>\n",
       "      <td>XS2435086652</td>\n",
       "      <td>NaN</td>\n",
       "      <td>NaN</td>\n",
       "      <td>NaN</td>\n",
       "      <td>NaN</td>\n",
       "      <td>NaN</td>\n",
       "      <td>DNB Bank ASA</td>\n",
       "      <td>NaN</td>\n",
       "      <td>NaN</td>\n",
       "      <td>Banks</td>\n",
       "      <td>NaN</td>\n",
       "      <td>NaN</td>\n",
       "      <td>NaN</td>\n",
       "      <td>NaN</td>\n",
       "      <td>NaN</td>\n",
       "      <td>NaN</td>\n",
       "      <td>Money market Investments</td>\n",
       "      <td>0 DNBB 22 ECP</td>\n",
       "      <td>NaN</td>\n",
       "      <td>EUR 3'000'000</td>\n",
       "      <td>3015160</td>\n",
       "      <td>True</td>\n",
       "      <td>right_only</td>\n",
       "    </tr>\n",
       "    <tr>\n",
       "      <th>2</th>\n",
       "      <td>FR0127437160</td>\n",
       "      <td>NaN</td>\n",
       "      <td>NaN</td>\n",
       "      <td>NaN</td>\n",
       "      <td>NaN</td>\n",
       "      <td>NaN</td>\n",
       "      <td>Société Generale</td>\n",
       "      <td>NaN</td>\n",
       "      <td>NaN</td>\n",
       "      <td>Banks</td>\n",
       "      <td>NaN</td>\n",
       "      <td>NaN</td>\n",
       "      <td>NaN</td>\n",
       "      <td>NaN</td>\n",
       "      <td>NaN</td>\n",
       "      <td>NaN</td>\n",
       "      <td>Money market Investments</td>\n",
       "      <td>0 SG 23 ECP</td>\n",
       "      <td>NaN</td>\n",
       "      <td>USD 1'000'000</td>\n",
       "      <td>957350</td>\n",
       "      <td>True</td>\n",
       "      <td>right_only</td>\n",
       "    </tr>\n",
       "    <tr>\n",
       "      <th>3</th>\n",
       "      <td>XS2451802925</td>\n",
       "      <td>NaN</td>\n",
       "      <td>NaN</td>\n",
       "      <td>NaN</td>\n",
       "      <td>NaN</td>\n",
       "      <td>NaN</td>\n",
       "      <td>Svenska Handelsbanken AB</td>\n",
       "      <td>NaN</td>\n",
       "      <td>NaN</td>\n",
       "      <td>Banks</td>\n",
       "      <td>NaN</td>\n",
       "      <td>NaN</td>\n",
       "      <td>NaN</td>\n",
       "      <td>NaN</td>\n",
       "      <td>NaN</td>\n",
       "      <td>NaN</td>\n",
       "      <td>Money market Investments</td>\n",
       "      <td>0 SHB 22 ECP</td>\n",
       "      <td>NaN</td>\n",
       "      <td>EUR 3'000'000</td>\n",
       "      <td>3010201</td>\n",
       "      <td>True</td>\n",
       "      <td>right_only</td>\n",
       "    </tr>\n",
       "    <tr>\n",
       "      <th>4</th>\n",
       "      <td>US42225P5017</td>\n",
       "      <td>NaN</td>\n",
       "      <td>NaN</td>\n",
       "      <td>NaN</td>\n",
       "      <td>NaN</td>\n",
       "      <td>NaN</td>\n",
       "      <td>HEALTHCARE TRUST AME. HTA.</td>\n",
       "      <td>NaN</td>\n",
       "      <td>NaN</td>\n",
       "      <td>Engineering&amp;Construction (medical office build...</td>\n",
       "      <td>NaN</td>\n",
       "      <td>NaN</td>\n",
       "      <td>NaN</td>\n",
       "      <td>NaN</td>\n",
       "      <td>NaN</td>\n",
       "      <td>NaN</td>\n",
       "      <td>Real Estate</td>\n",
       "      <td>HLTHC RLTY TR-A</td>\n",
       "      <td>NaN</td>\n",
       "      <td>150246</td>\n",
       "      <td>4014519</td>\n",
       "      <td>False</td>\n",
       "      <td>right_only</td>\n",
       "    </tr>\n",
       "    <tr>\n",
       "      <th>5</th>\n",
       "      <td>US276480AE09</td>\n",
       "      <td>NaN</td>\n",
       "      <td>NaN</td>\n",
       "      <td>NaN</td>\n",
       "      <td>NaN</td>\n",
       "      <td>NaN</td>\n",
       "      <td>Eastern Gas Transmission &amp; Storage Inc</td>\n",
       "      <td>NaN</td>\n",
       "      <td>NaN</td>\n",
       "      <td>Gas</td>\n",
       "      <td>NaN</td>\n",
       "      <td>NaN</td>\n",
       "      <td>NaN</td>\n",
       "      <td>NaN</td>\n",
       "      <td>NaN</td>\n",
       "      <td>NaN</td>\n",
       "      <td>Foreign Currency bonds</td>\n",
       "      <td>4.8 EAST 43NTS-144A</td>\n",
       "      <td>NaN</td>\n",
       "      <td>USD 625'000</td>\n",
       "      <td>559122</td>\n",
       "      <td>False</td>\n",
       "      <td>right_only</td>\n",
       "    </tr>\n",
       "    <tr>\n",
       "      <th>6</th>\n",
       "      <td>FR0014009LO3</td>\n",
       "      <td>NaN</td>\n",
       "      <td>NaN</td>\n",
       "      <td>NaN</td>\n",
       "      <td>NaN</td>\n",
       "      <td>NaN</td>\n",
       "      <td>EssilorLuxottica S.A</td>\n",
       "      <td>NaN</td>\n",
       "      <td>NaN</td>\n",
       "      <td>Healthcare-Products</td>\n",
       "      <td>NaN</td>\n",
       "      <td>NaN</td>\n",
       "      <td>NaN</td>\n",
       "      <td>NaN</td>\n",
       "      <td>NaN</td>\n",
       "      <td>NaN</td>\n",
       "      <td>Equities</td>\n",
       "      <td>ESSILOR RTS 22</td>\n",
       "      <td>NaN</td>\n",
       "      <td>84465</td>\n",
       "      <td>0</td>\n",
       "      <td>True</td>\n",
       "      <td>right_only</td>\n",
       "    </tr>\n",
       "    <tr>\n",
       "      <th>7</th>\n",
       "      <td>DE000A3MQQ17</td>\n",
       "      <td>NaN</td>\n",
       "      <td>NaN</td>\n",
       "      <td>NaN</td>\n",
       "      <td>NaN</td>\n",
       "      <td>NaN</td>\n",
       "      <td>Fresenius SE &amp; Co. KGaA</td>\n",
       "      <td>NaN</td>\n",
       "      <td>NaN</td>\n",
       "      <td>Healthcare-Products</td>\n",
       "      <td>NaN</td>\n",
       "      <td>NaN</td>\n",
       "      <td>NaN</td>\n",
       "      <td>NaN</td>\n",
       "      <td>NaN</td>\n",
       "      <td>NaN</td>\n",
       "      <td>Equities</td>\n",
       "      <td>FRESENI RTS.22</td>\n",
       "      <td>NaN</td>\n",
       "      <td>125822</td>\n",
       "      <td>0</td>\n",
       "      <td>True</td>\n",
       "      <td>right_only</td>\n",
       "    </tr>\n",
       "    <tr>\n",
       "      <th>8</th>\n",
       "      <td>CA01626P3043</td>\n",
       "      <td>NaN</td>\n",
       "      <td>NaN</td>\n",
       "      <td>NaN</td>\n",
       "      <td>NaN</td>\n",
       "      <td>NaN</td>\n",
       "      <td>Alimentation Couche-Tard Inc Share Price</td>\n",
       "      <td>NaN</td>\n",
       "      <td>NaN</td>\n",
       "      <td>Retail</td>\n",
       "      <td>NaN</td>\n",
       "      <td>NaN</td>\n",
       "      <td>NaN</td>\n",
       "      <td>NaN</td>\n",
       "      <td>NaN</td>\n",
       "      <td>NaN</td>\n",
       "      <td>Equities</td>\n",
       "      <td>ALIMENT COUCHE -A</td>\n",
       "      <td>NaN</td>\n",
       "      <td>43286</td>\n",
       "      <td>1613004</td>\n",
       "      <td>False</td>\n",
       "      <td>right_only</td>\n",
       "    </tr>\n",
       "    <tr>\n",
       "      <th>9</th>\n",
       "      <td>CA87971M9969</td>\n",
       "      <td>NaN</td>\n",
       "      <td>NaN</td>\n",
       "      <td>NaN</td>\n",
       "      <td>NaN</td>\n",
       "      <td>NaN</td>\n",
       "      <td>Telus</td>\n",
       "      <td>NaN</td>\n",
       "      <td>NaN</td>\n",
       "      <td>Telecommunications</td>\n",
       "      <td>NaN</td>\n",
       "      <td>NaN</td>\n",
       "      <td>NaN</td>\n",
       "      <td>NaN</td>\n",
       "      <td>NaN</td>\n",
       "      <td>NaN</td>\n",
       "      <td>Equities</td>\n",
       "      <td>TELUS NON-CDN</td>\n",
       "      <td>NaN</td>\n",
       "      <td>23068</td>\n",
       "      <td>490835</td>\n",
       "      <td>False</td>\n",
       "      <td>right_only</td>\n",
       "    </tr>\n",
       "  </tbody>\n",
       "</table>\n",
       "</div>"
      ],
      "text/plain": [
       "           ISIN  Date  Name  Ticker  Wertpapiertyp  Emittent  \\\n",
       "0  XS2429878700   NaN   NaN     NaN            NaN       NaN   \n",
       "1  XS2435086652   NaN   NaN     NaN            NaN       NaN   \n",
       "2  FR0127437160   NaN   NaN     NaN            NaN       NaN   \n",
       "3  XS2451802925   NaN   NaN     NaN            NaN       NaN   \n",
       "4  US42225P5017   NaN   NaN     NaN            NaN       NaN   \n",
       "5  US276480AE09   NaN   NaN     NaN            NaN       NaN   \n",
       "6  FR0014009LO3   NaN   NaN     NaN            NaN       NaN   \n",
       "7  DE000A3MQQ17   NaN   NaN     NaN            NaN       NaN   \n",
       "8  CA01626P3043   NaN   NaN     NaN            NaN       NaN   \n",
       "9  CA87971M9969   NaN   NaN     NaN            NaN       NaN   \n",
       "\n",
       "                               Company Name  Vollständiger Name  Kurzname  \\\n",
       "0                             OP YRITYSPANK                 NaN       NaN   \n",
       "1                              DNB Bank ASA                 NaN       NaN   \n",
       "2                          Société Generale                 NaN       NaN   \n",
       "3                  Svenska Handelsbanken AB                 NaN       NaN   \n",
       "4               HEALTHCARE TRUST AME. HTA.                  NaN       NaN   \n",
       "5   Eastern Gas Transmission & Storage Inc                  NaN       NaN   \n",
       "6                      EssilorLuxottica S.A                 NaN       NaN   \n",
       "7                  Fresenius SE & Co. KGaA                  NaN       NaN   \n",
       "8  Alimentation Couche-Tard Inc Share Price                 NaN       NaN   \n",
       "9                                     Telus                 NaN       NaN   \n",
       "\n",
       "                                              Gruppe  Sektor  Untergruppe  \\\n",
       "0                                              Banks     NaN          NaN   \n",
       "1                                              Banks     NaN          NaN   \n",
       "2                                              Banks     NaN          NaN   \n",
       "3                                              Banks     NaN          NaN   \n",
       "4  Engineering&Construction (medical office build...     NaN          NaN   \n",
       "5                                                Gas     NaN          NaN   \n",
       "6                                Healthcare-Products     NaN          NaN   \n",
       "7                                Healthcare-Products     NaN          NaN   \n",
       "8                                             Retail     NaN          NaN   \n",
       "9                                 Telecommunications     NaN          NaN   \n",
       "\n",
       "   Country (P)  Country ISO  Land (Risiko)  Sitzland  \\\n",
       "0          NaN          NaN            NaN       NaN   \n",
       "1          NaN          NaN            NaN       NaN   \n",
       "2          NaN          NaN            NaN       NaN   \n",
       "3          NaN          NaN            NaN       NaN   \n",
       "4          NaN          NaN            NaN       NaN   \n",
       "5          NaN          NaN            NaN       NaN   \n",
       "6          NaN          NaN            NaN       NaN   \n",
       "7          NaN          NaN            NaN       NaN   \n",
       "8          NaN          NaN            NaN       NaN   \n",
       "9          NaN          NaN            NaN       NaN   \n",
       "\n",
       "                Asset Class          Description  Currency Nominal/Quantity  \\\n",
       "0  Money market Investments        0 OPCB 23 ECP       NaN    USD 2'000'000   \n",
       "1  Money market Investments        0 DNBB 22 ECP       NaN    EUR 3'000'000   \n",
       "2  Money market Investments          0 SG 23 ECP       NaN    USD 1'000'000   \n",
       "3  Money market Investments         0 SHB 22 ECP       NaN    EUR 3'000'000   \n",
       "4               Real Estate      HLTHC RLTY TR-A       NaN           150246   \n",
       "5    Foreign Currency bonds  4.8 EAST 43NTS-144A       NaN      USD 625'000   \n",
       "6                  Equities       ESSILOR RTS 22       NaN            84465   \n",
       "7                  Equities       FRESENI RTS.22       NaN           125822   \n",
       "8                  Equities    ALIMENT COUCHE -A       NaN            43286   \n",
       "9                  Equities        TELUS NON-CDN       NaN            23068   \n",
       "\n",
       "   Market Value CHF  Date.1      _merge  \n",
       "0           1903345    True  right_only  \n",
       "1           3015160    True  right_only  \n",
       "2            957350    True  right_only  \n",
       "3           3010201    True  right_only  \n",
       "4           4014519   False  right_only  \n",
       "5            559122   False  right_only  \n",
       "6                 0    True  right_only  \n",
       "7                 0    True  right_only  \n",
       "8           1613004   False  right_only  \n",
       "9            490835   False  right_only  "
      ]
     },
     "execution_count": 95,
     "metadata": {},
     "output_type": "execute_result"
    }
   ],
   "source": [
    "transfo"
   ]
  },
  {
   "cell_type": "code",
   "execution_count": 87,
   "id": "fa2125a2",
   "metadata": {},
   "outputs": [
    {
     "data": {
      "text/plain": [
       "10"
      ]
     },
     "execution_count": 87,
     "metadata": {},
     "output_type": "execute_result"
    }
   ],
   "source": [
    "len(transfo)"
   ]
  },
  {
   "cell_type": "code",
   "execution_count": null,
   "id": "9006fe40",
   "metadata": {},
   "outputs": [],
   "source": [
    "# Fill df NaNs with transfo values (Company Name and Gruppe), 10 rows modified\n",
    "# Combler les cellules manquants des colonnes Company Name et Gruppe (NaN) du fichier Compenswiss avec les ajouts manuels\n",
    "\n",
    "df = df.set_index(\"ISIN\").combine_first(transfo.set_index(\"ISIN\")).reset_index()\n"
   ]
  },
  {
   "cell_type": "code",
   "execution_count": null,
   "id": "8cc12a67",
   "metadata": {},
   "outputs": [],
   "source": [
    "# Exemples\n",
    "\n",
    "df[df.apply(lambda row: row.astype(str).str.contains(\"US276480AE09\", case=False).any(), axis=1)]\n"
   ]
  },
  {
   "cell_type": "code",
   "execution_count": null,
   "id": "8e546068",
   "metadata": {},
   "outputs": [],
   "source": [
    "df[df.apply(lambda row: row.astype(str).str.contains(\"XS2429878700\", case=False).any(), axis=1)]\n"
   ]
  },
  {
   "cell_type": "markdown",
   "id": "4df50c57",
   "metadata": {},
   "source": [
    "## Analyses"
   ]
  },
  {
   "cell_type": "markdown",
   "id": "018964b0",
   "metadata": {},
   "source": [
    "#### La valeur la plus haute est un fond Pictet"
   ]
  },
  {
   "cell_type": "code",
   "execution_count": null,
   "id": "50f41b41",
   "metadata": {},
   "outputs": [],
   "source": [
    "df[df['Market Value CHF'] == df['Market Value CHF'].max()]"
   ]
  },
  {
   "cell_type": "code",
   "execution_count": null,
   "id": "d35d4611",
   "metadata": {},
   "outputs": [],
   "source": [
    "df.nlargest(10, 'Market Value CHF')"
   ]
  },
  {
   "cell_type": "markdown",
   "id": "a29f1829",
   "metadata": {},
   "source": [
    "#### Comptabiliser les montants investis par groupe d'activité"
   ]
  },
  {
   "cell_type": "markdown",
   "id": "40f6b430",
   "metadata": {},
   "source": [
    "#### Oil & Gas"
   ]
  },
  {
   "cell_type": "code",
   "execution_count": null,
   "id": "2acccde3",
   "metadata": {},
   "outputs": [],
   "source": [
    "oil = df[(df['Gruppe'] == 'Oil and gas') | \n",
    "         (df['Gruppe'] == 'Oil&Gas') | \n",
    "         (df['Gruppe'] == 'Oil&Gas Services') |\n",
    "         (df['Gruppe'] == 'Gas') | \n",
    "         (df['Gruppe'] == 'Pipelines') \n",
    "        ]\n",
    "        \n",
    "\n",
    "oil[['Company Name', 'Gruppe', 'Market Value CHF']].head()"
   ]
  },
  {
   "cell_type": "code",
   "execution_count": null,
   "id": "27c32007",
   "metadata": {},
   "outputs": [],
   "source": [
    "oil['Market Value CHF'].sum()"
   ]
  },
  {
   "cell_type": "markdown",
   "id": "e11b4d69",
   "metadata": {},
   "source": [
    "#### Tobacco"
   ]
  },
  {
   "cell_type": "code",
   "execution_count": null,
   "id": "731409c0",
   "metadata": {},
   "outputs": [],
   "source": [
    "tobacco = df[df.apply(lambda row: row.astype(str).str.contains(\"tobacco\", case=False).any(), axis=1)]"
   ]
  },
  {
   "cell_type": "code",
   "execution_count": null,
   "id": "c1295abf",
   "metadata": {},
   "outputs": [],
   "source": [
    "tobacco['Market Value CHF'].sum()"
   ]
  },
  {
   "cell_type": "code",
   "execution_count": null,
   "id": "33eb86fb",
   "metadata": {},
   "outputs": [],
   "source": [
    "tobacco[['Company Name', 'Gruppe', 'Market Value CHF']]"
   ]
  },
  {
   "cell_type": "markdown",
   "id": "5fe9a880",
   "metadata": {},
   "source": [
    "#### Armes, militaire, défense"
   ]
  },
  {
   "cell_type": "code",
   "execution_count": 96,
   "id": "61d68105",
   "metadata": {},
   "outputs": [
    {
     "data": {
      "text/plain": [
       "30"
      ]
     },
     "execution_count": 96,
     "metadata": {},
     "output_type": "execute_result"
    }
   ],
   "source": [
    "weapons = df[(df['Gruppe'] == 'Aerospace/Defense') | \n",
    "             (df['Untergruppe'] == 'Explosives')\n",
    "            ]\n",
    "\n",
    "len(weapons)"
   ]
  },
  {
   "cell_type": "code",
   "execution_count": null,
   "id": "bbccfba9",
   "metadata": {},
   "outputs": [],
   "source": [
    "weapons['Market Value CHF'].sum()"
   ]
  },
  {
   "cell_type": "markdown",
   "id": "bb44fb2e",
   "metadata": {},
   "source": [
    "#### Nucléaire"
   ]
  },
  {
   "cell_type": "code",
   "execution_count": null,
   "id": "d1899b33",
   "metadata": {},
   "outputs": [],
   "source": [
    "nuclear = df[df.apply(lambda row: row.astype(str).str.contains('nuclear', case=False).any(), axis=1)]\n",
    "nuclear"
   ]
  },
  {
   "cell_type": "code",
   "execution_count": null,
   "id": "642e2068",
   "metadata": {},
   "outputs": [],
   "source": [
    "nuclear['Market Value CHF'].sum()"
   ]
  },
  {
   "cell_type": "markdown",
   "id": "03059495",
   "metadata": {},
   "source": [
    "#### Voitures"
   ]
  },
  {
   "cell_type": "code",
   "execution_count": null,
   "id": "61c30960",
   "metadata": {},
   "outputs": [],
   "source": [
    "auto = df[(df['Gruppe'] == 'Auto Parts') | \n",
    "         (df['Gruppe'] == 'Auto ABS') | \n",
    "         (df['Gruppe'] == 'Auto Manufacturers') |\n",
    "         (df['Gruppe'] == 'Auto Parts&Equipment') | \n",
    "         (df['Untergruppe'] == 'Retail-Automobile') | \n",
    "         (df['Untergruppe'] == 'Retail-Auto Parts') | \n",
    "         (df['Untergruppe'] == 'Rental Auto/Equipment')\n",
    "        ]\n",
    "auto['Market Value CHF'].sum()\n"
   ]
  },
  {
   "cell_type": "markdown",
   "id": "a889418e",
   "metadata": {},
   "source": [
    "#### Mining"
   ]
  },
  {
   "cell_type": "code",
   "execution_count": null,
   "id": "496a808b",
   "metadata": {},
   "outputs": [],
   "source": [
    "mining = df[(df['Gruppe'] == 'Mining')| \n",
    "         (df['Untergruppe'] == 'Machinery-Constr&Mining')\n",
    "           ]\n",
    "\n",
    "\n",
    "\n",
    "mining[['Company Name', 'Gruppe', 'Untergruppe', 'Market Value CHF']].groupby('Company Name')['Market Value CHF'].sum().to_clipboard()"
   ]
  },
  {
   "cell_type": "code",
   "execution_count": null,
   "id": "3d72c7b7",
   "metadata": {},
   "outputs": [],
   "source": [
    "mining['Market Value CHF'].sum()"
   ]
  },
  {
   "cell_type": "code",
   "execution_count": null,
   "id": "0001d3a6",
   "metadata": {},
   "outputs": [],
   "source": [
    "mining['Company Name'].unique()"
   ]
  },
  {
   "cell_type": "markdown",
   "id": "896bb459",
   "metadata": {},
   "source": [
    "#### Total Energies"
   ]
  },
  {
   "cell_type": "code",
   "execution_count": null,
   "id": "84c49e5f",
   "metadata": {},
   "outputs": [],
   "source": [
    "total = df[df.apply(lambda row: row.astype(str).str.contains('total', case=False).any(), axis=1)]\n",
    "\n",
    "total['Company Name'].value_counts()"
   ]
  },
  {
   "cell_type": "code",
   "execution_count": null,
   "id": "3cbdb178",
   "metadata": {},
   "outputs": [],
   "source": [
    "total['Market Value CHF'].sum()"
   ]
  },
  {
   "cell_type": "markdown",
   "id": "526cf78c",
   "metadata": {},
   "source": [
    "#### Amazon"
   ]
  },
  {
   "cell_type": "code",
   "execution_count": null,
   "id": "0af70bfc",
   "metadata": {},
   "outputs": [],
   "source": [
    "amazon = df[df.apply(lambda row: row.astype(str).str.contains('amazon', case=False).any(), axis=1)]\n",
    "\n",
    "amazon['Company Name'].value_counts()"
   ]
  },
  {
   "cell_type": "code",
   "execution_count": null,
   "id": "5750a722",
   "metadata": {},
   "outputs": [],
   "source": [
    "amazon['Market Value CHF'].sum()"
   ]
  },
  {
   "cell_type": "markdown",
   "id": "73e00020",
   "metadata": {},
   "source": [
    "#### BHP"
   ]
  },
  {
   "cell_type": "code",
   "execution_count": null,
   "id": "17a8ec20",
   "metadata": {},
   "outputs": [],
   "source": [
    "bhp = df[df.apply(lambda row: row.astype(str).str.contains('BHP', case=False).any(), axis=1)]"
   ]
  },
  {
   "cell_type": "code",
   "execution_count": null,
   "id": "4fca3ed1",
   "metadata": {},
   "outputs": [],
   "source": [
    "bhp['Market Value CHF'].sum()"
   ]
  },
  {
   "cell_type": "markdown",
   "id": "55438a9b",
   "metadata": {},
   "source": [
    "#### Energies renouvelables"
   ]
  },
  {
   "cell_type": "code",
   "execution_count": null,
   "id": "e6e146c8",
   "metadata": {},
   "outputs": [],
   "source": [
    "en = df[df['Gruppe'] == 'Energy-Alternate Sources']\n",
    "\n",
    "en['Market Value CHF'].sum()"
   ]
  },
  {
   "cell_type": "code",
   "execution_count": null,
   "id": "cc47ecdb",
   "metadata": {},
   "outputs": [],
   "source": [
    "en[['Company Name', 'Gruppe', 'Market Value CHF']]"
   ]
  },
  {
   "cell_type": "markdown",
   "id": "940e5a6c",
   "metadata": {},
   "source": [
    "#### Viande"
   ]
  },
  {
   "cell_type": "code",
   "execution_count": null,
   "id": "f799dc77",
   "metadata": {},
   "outputs": [],
   "source": [
    "viande = df[df['Untergruppe'] == 'Food-Meat Products']\n",
    "viande[['Company Name', 'Gruppe', 'Market Value CHF']]"
   ]
  },
  {
   "cell_type": "code",
   "execution_count": null,
   "id": "742b80ec",
   "metadata": {},
   "outputs": [],
   "source": [
    "viande['Market Value CHF'].sum()"
   ]
  },
  {
   "cell_type": "markdown",
   "id": "abddc446",
   "metadata": {},
   "source": [
    "#### Eau"
   ]
  },
  {
   "cell_type": "code",
   "execution_count": null,
   "id": "c1f5cd97",
   "metadata": {},
   "outputs": [],
   "source": [
    "df[df.apply(lambda row: row.astype(str).str.contains('water', case=False).any(), axis=1)]['Gruppe'].value_counts()"
   ]
  },
  {
   "cell_type": "code",
   "execution_count": null,
   "id": "b6e333cb",
   "metadata": {},
   "outputs": [],
   "source": [
    "eau = df[df['Gruppe'] == 'Water']\n"
   ]
  },
  {
   "cell_type": "code",
   "execution_count": null,
   "id": "89ea2f43",
   "metadata": {},
   "outputs": [],
   "source": [
    "eau['Market Value CHF'].sum()"
   ]
  },
  {
   "cell_type": "code",
   "execution_count": null,
   "id": "c6e91938",
   "metadata": {},
   "outputs": [],
   "source": [
    "eau"
   ]
  },
  {
   "cell_type": "code",
   "execution_count": null,
   "id": "d7a89204",
   "metadata": {},
   "outputs": [],
   "source": [
    "eau['Market Value CHF'].sum()"
   ]
  },
  {
   "cell_type": "markdown",
   "id": "76a6811b",
   "metadata": {},
   "source": [
    "#### Papier"
   ]
  },
  {
   "cell_type": "code",
   "execution_count": null,
   "id": "ae0bb4bb",
   "metadata": {},
   "outputs": [],
   "source": [
    "papier = df[df['Gruppe'] == 'Forest Products&Paper']"
   ]
  },
  {
   "cell_type": "code",
   "execution_count": null,
   "id": "b925300b",
   "metadata": {},
   "outputs": [],
   "source": [
    "papier['Market Value CHF'].sum()"
   ]
  },
  {
   "cell_type": "markdown",
   "id": "88c2fd38",
   "metadata": {},
   "source": [
    "#### Air travel\n"
   ]
  },
  {
   "cell_type": "code",
   "execution_count": null,
   "id": "8b698269",
   "metadata": {},
   "outputs": [],
   "source": [
    "df[(df['Gruppe'] == 'Airlines') | (df['Untergruppe'] == 'Airport Develop/Maint')][['Company Name', 'Gruppe', 'Untergruppe', 'Market Value CHF']].groupby('Company Name')['Market Value CHF'].sum()"
   ]
  },
  {
   "cell_type": "code",
   "execution_count": null,
   "id": "5be0fa9f",
   "metadata": {},
   "outputs": [],
   "source": [
    "df[(df['Gruppe'] == 'Airlines') | (df['Untergruppe'] == 'Airport Develop/Maint')]['Market Value CHF'].sum()"
   ]
  },
  {
   "cell_type": "code",
   "execution_count": null,
   "id": "86272690",
   "metadata": {},
   "outputs": [],
   "source": [
    "df[(df['Gruppe'] == 'Airlines') | (df['Untergruppe'] == 'Airport Develop/Maint')].groupby('Company Name')['Market Value CHF'].sum().to_clipboard()"
   ]
  },
  {
   "cell_type": "markdown",
   "id": "ac0f281f",
   "metadata": {},
   "source": [
    "#### Entreprises polémiques"
   ]
  },
  {
   "cell_type": "code",
   "execution_count": null,
   "id": "ff92444c",
   "metadata": {},
   "outputs": [],
   "source": [
    "target = [\n",
    "\"Amazon\",\n",
    "\"TotalEnergies\",\n",
    "\"Toyota\",\n",
    "\"Engie\",\n",
    "\"Air Liquide\",\n",
    "\"Enel\",\n",
    "\"Iberdrola\",\n",
    "\"Shell\",\n",
    "\"Exxon\",\n",
    "\"Gulf Power\",\n",
    "\"Vinci\",\n",
    "\"Var Energi\",\n",
    "\"Monongahela Power Company - Mon Power\",\n",
    "\"Monongahela\",\n",
    "\"Philip Morris PMI\",\n",
    "\"PMI\",\n",
    "\"Philip Morris\",\n",
    "\"Airbus\",\n",
    "\"Flughafen Zurich\",\n",
    "\"ZRH\",\n",
    "\"Safran\",\n",
    "\"Dassault\",\n",
    "\"SIKA\",\n",
    "\"Holcim\",\n",
    "\"Danone\",\n",
    "\"Shin-Etsu Chemical\",\n",
    "\"Shin-Etsu\",\n",
    "\"Pepsi\",\n",
    "\"Bayer\",\n",
    "\"Pernod-Ricard\",\n",
    "\"Diageo\",\n",
    "\"Lonza\",\n",
    "\"Henkel\",\n",
    "\"Walmart\",\n",
    "\"BASF\",\n",
    "\"Nestlé\",\n",
    "\"Coca Cola\",\n",
    "\"Unilever\",\n",
    "\"Procter and Gamble\",\n",
    "\"Procter & Gamble\",\n",
    "\"Procter&Gamble\",\n",
    "\"Mercedes\",\n",
    "\"Tesla\",\n",
    "\"Mitsubishi\",\n",
    "\"Schneider Electric\",\n",
    "\"ABB\",\n",
    "\"LVMH\",\n",
    "\"Siemens\",\n",
    "\"Stellantis\",\n",
    "\"Huntington Ingalls Industries Inc\",\n",
    "\"Huntington Ingalls\",\n",
    "\"BHP Ltd\",\n",
    "\"EDF\",\n",
    "\"Arcelor Mittal\",\n",
    "\"Air Canada\",\n",
    "\"Continental Airlines\",\n",
    "\"Cimic group\",\n",
    "\"Ballard Systems Power\",\n",
    "\"Atco ltd/Canada\",\n",
    "\"Ivanhoe Mines Ltd\",\n",
    "\"Pan American Silver Corp\",\n",
    "\"Lundin Mining Corp\",\n",
    "\"Fresnillo PLC\",\n",
    "\"Magellan Midstream Partner\",\n",
    "\"Parkland Corp\",\n",
    "\"Yamana Gold inc\",\n",
    "\"Kinross Gold\",\n",
    "\"Keyera corp\",\n",
    "\"Delta Airlines\",\n",
    "\"B2 Gold corp\",\n",
    "\"AltaGas LTD\",\n",
    "\"Heico Corp\",\n",
    "\"SouthWest Airlines\",\n",
    "\"Mercury NZ\",\n",
    "\"Qantas Airways\",\n",
    "\"Qantas\",\n",
    "\"Diamondback Energy inc\",\n",
    "\"Evolution mining ltd\",\n",
    "\"Air China\",\n",
    "\"Coal india\",\n",
    "\"Indian oil\",\n",
    "\"Petronas\",\n",
    "\"Polish oil and gas company\",\n",
    "\"Ugi corp\",\n",
    "\"Imperial oil ltd\"]"
   ]
  },
  {
   "cell_type": "code",
   "execution_count": null,
   "id": "4038ca6c",
   "metadata": {},
   "outputs": [],
   "source": [
    "df_target = df[df.apply(lambda row: row.astype(str).str.contains('|'.join(target), case=False).any(), axis=1)]\n",
    "df_target.groupby('Company Name')['Market Value CHF'].sum().to_clipboard()"
   ]
  },
  {
   "cell_type": "markdown",
   "id": "c2a8431b",
   "metadata": {},
   "source": [
    "#### Check environnemental"
   ]
  },
  {
   "cell_type": "code",
   "execution_count": null,
   "id": "d6fce6b0",
   "metadata": {},
   "outputs": [],
   "source": [
    "env = ['Albioma',\n",
    " 'Alpha Metallurgical',\n",
    " 'Ameren',\n",
    " 'American Electric Power',\n",
    " 'Arch Resources',\n",
    " 'Athabasca',\n",
    " 'BP p.l.c.',\n",
    " 'British Petroleum',\n",
    " 'Berry Corp',\n",
    " 'Buzzi Unicem',\n",
    " 'CF Industries',\n",
    " 'Canadian Natural Resources',\n",
    " 'Chevron',\n",
    " 'Coronado Global Resources',\n",
    " 'Denbury',\n",
    " 'Electric Power Development',\n",
    " 'Eni S.p.A.',\n",
    " 'Eni SpA',\n",
    " 'Entergy Corp',\n",
    " 'Equinor',\n",
    " 'Exxon',\n",
    " 'HeidelbergCement',\n",
    " 'Hokkaido Electric Power',\n",
    " 'Hokuriku Electric Power',\n",
    " 'Holcim',\n",
    " 'New Hope',\n",
    " 'OCI N.V.',\n",
    " 'OMV AG',\n",
    " 'Repsol',\n",
    " 'Shell',\n",
    " 'Stanmore',\n",
    " 'Sumitomo Osaka Cement',\n",
    " 'Taiheiyo Cement',\n",
    " 'TerraCom',\n",
    " 'AES Corp/The',\n",
    " \"AES Corp\",\n",
    " 'The Scotts Miracle-Gro',\n",
    " 'ScottsMiracle-Gro',\n",
    " 'Southern Company',\n",
    " 'Titan',\n",
    " 'TransAlta',\n",
    " 'TransAlta',\n",
    " 'Vicat',\n",
    " 'Vistra',\n",
    " 'Soul Pattinson',\n",
    " 'WHSP',\n",
    " 'Yara',\n",
    " 'eREX']"
   ]
  },
  {
   "cell_type": "code",
   "execution_count": null,
   "id": "3b14f626",
   "metadata": {},
   "outputs": [],
   "source": [
    "df_env = df[df.apply(lambda row: row.astype(str).str.contains('|'.join(env), case=False).any(), axis=1)]\n",
    "df_env.groupby('Company Name')['Market Value CHF'].sum().to_clipboard()"
   ]
  },
  {
   "cell_type": "code",
   "execution_count": null,
   "id": "d40462e7",
   "metadata": {},
   "outputs": [],
   "source": [
    "len(df_env)"
   ]
  },
  {
   "cell_type": "code",
   "execution_count": null,
   "id": "c2ccf3bf",
   "metadata": {},
   "outputs": [],
   "source": [
    "df_env['Company Name'].value_counts().sort_values(ascending = False)"
   ]
  },
  {
   "cell_type": "markdown",
   "id": "99ffb575",
   "metadata": {},
   "source": [
    "#### Holcim"
   ]
  },
  {
   "cell_type": "code",
   "execution_count": null,
   "id": "762c30b1",
   "metadata": {},
   "outputs": [],
   "source": [
    "holcim = df[df.apply(lambda row: row.astype(str).str.contains('Holcim', case=False).any(), axis=1)]"
   ]
  },
  {
   "cell_type": "code",
   "execution_count": null,
   "id": "b2c2c66b",
   "metadata": {},
   "outputs": [],
   "source": [
    "holcim['Market Value CHF'].sum()"
   ]
  },
  {
   "cell_type": "code",
   "execution_count": null,
   "id": "f8b25d8c",
   "metadata": {},
   "outputs": [],
   "source": [
    "holcim['Date'].value_counts()"
   ]
  },
  {
   "cell_type": "code",
   "execution_count": null,
   "id": "895f2e4e",
   "metadata": {},
   "outputs": [],
   "source": [
    "holcim"
   ]
  },
  {
   "cell_type": "markdown",
   "id": "a563342d",
   "metadata": {},
   "source": [
    "#### 4 entreprises sans vergogne"
   ]
  },
  {
   "cell_type": "code",
   "execution_count": null,
   "id": "af8fdd79",
   "metadata": {},
   "outputs": [],
   "source": [
    "select = ['repsol', 'yara', 'cf industries', 'lundin', 'Aker BP']\n",
    "\n",
    "df[df.apply(lambda row: row.astype(str).str.contains('|'.join(select), case=False).any(), axis=1)]"
   ]
  },
  {
   "cell_type": "code",
   "execution_count": null,
   "id": "6a7d3f9a",
   "metadata": {},
   "outputs": [],
   "source": [
    "df[df.apply(lambda row: row.astype(str).str.contains('|'.join(select), case=False).any(), axis=1)].groupby('Company Name')['Market Value CHF'].sum()\n"
   ]
  },
  {
   "cell_type": "code",
   "execution_count": null,
   "id": "42f20695",
   "metadata": {},
   "outputs": [],
   "source": [
    "df[df.apply(lambda row: row.astype(str).str.contains('Aker BP', case=False).any(), axis=1)]['Market Value CHF'].sum()"
   ]
  },
  {
   "cell_type": "markdown",
   "id": "60e5eac6",
   "metadata": {},
   "source": [
    "#### Russie"
   ]
  },
  {
   "cell_type": "code",
   "execution_count": null,
   "id": "e185bce7",
   "metadata": {},
   "outputs": [],
   "source": [
    "russia = df[df.apply(lambda row: row.astype(str).str.contains('russi', case=False).any(), axis=1)]\n",
    "len(russia)"
   ]
  },
  {
   "cell_type": "code",
   "execution_count": null,
   "id": "afb06a0f",
   "metadata": {},
   "outputs": [],
   "source": [
    "russia"
   ]
  },
  {
   "cell_type": "markdown",
   "id": "ba2c0595",
   "metadata": {},
   "source": [
    "#### Gold"
   ]
  },
  {
   "cell_type": "code",
   "execution_count": null,
   "id": "746cf977",
   "metadata": {},
   "outputs": [],
   "source": [
    "df[df.apply(lambda row: row.astype(str).str.contains('Gold - LBMA Good Delivery Bars', case=False).any(), axis=1)]"
   ]
  },
  {
   "cell_type": "code",
   "execution_count": null,
   "id": "b1aa3b4c",
   "metadata": {},
   "outputs": [],
   "source": [
    "# Pour compléter ces montants, recherche dans le détail du fonds Pictet"
   ]
  },
  {
   "cell_type": "code",
   "execution_count": null,
   "id": "43178f52",
   "metadata": {},
   "outputs": [],
   "source": [
    "df['Date'].value_counts()"
   ]
  },
  {
   "cell_type": "code",
   "execution_count": null,
   "id": "51aa0151",
   "metadata": {},
   "outputs": [],
   "source": []
  }
 ],
 "metadata": {
  "kernelspec": {
   "display_name": "Python 3",
   "language": "python",
   "name": "python3"
  },
  "language_info": {
   "codemirror_mode": {
    "name": "ipython",
    "version": 3
   },
   "file_extension": ".py",
   "mimetype": "text/x-python",
   "name": "python",
   "nbconvert_exporter": "python",
   "pygments_lexer": "ipython3",
   "version": "3.8.8"
  }
 },
 "nbformat": 4,
 "nbformat_minor": 5
}
