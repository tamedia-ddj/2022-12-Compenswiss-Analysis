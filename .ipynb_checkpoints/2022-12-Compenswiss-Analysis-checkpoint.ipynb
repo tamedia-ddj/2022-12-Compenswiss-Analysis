{
 "cells": [
  {
   "cell_type": "code",
   "execution_count": 1,
   "id": "9ea18cd9",
   "metadata": {},
   "outputs": [],
   "source": [
    "import pandas as pd\n",
    "import re\n",
    "import numpy as np\n",
    "pd.options.display.max_columns = None\n",
    "pd.options.display.max_rows = None"
   ]
  },
  {
   "cell_type": "markdown",
   "id": "6d1a821e",
   "metadata": {},
   "source": [
    "## Charger l'extraction Tabula"
   ]
  },
  {
   "cell_type": "code",
   "execution_count": 2,
   "id": "0a9e2edd",
   "metadata": {},
   "outputs": [],
   "source": [
    "df = pd.read_csv('tabula-compenswiss - list of positions - 30.06.2022.csv')"
   ]
  },
  {
   "cell_type": "markdown",
   "id": "1e322e51",
   "metadata": {},
   "source": [
    "## Nettoyer l'extraction Tabula\n",
    "J'ai gardé les entêtes de chaque page pour garder les bonnes colonnes lors de l'extraction. On a plus besoin de ces entêtes."
   ]
  },
  {
   "cell_type": "code",
   "execution_count": 3,
   "id": "cf80d70f",
   "metadata": {},
   "outputs": [],
   "source": [
    "df = df[df['ISIN'] != 'ISIN']"
   ]
  },
  {
   "cell_type": "markdown",
   "id": "92f50fc0",
   "metadata": {},
   "source": [
    "Formate les nombres"
   ]
  },
  {
   "cell_type": "code",
   "execution_count": 4,
   "id": "20b71379",
   "metadata": {},
   "outputs": [],
   "source": [
    "# Supprime les séparateurs de milliers\n",
    "df['Market Value CHF'] = df['Market Value CHF'].replace(\"'\",'', regex=True)\n",
    "\n",
    "# Supprime les décimales\n",
    "df['Market Value CHF'] = df['Market Value CHF'].replace(\"\\..*\",'', regex=True)\n",
    "\n",
    "# Convertit les montants en entiers\n",
    "df['Market Value CHF'] = df['Market Value CHF'].astype(int)"
   ]
  },
  {
   "cell_type": "code",
   "execution_count": 5,
   "id": "89a2f1b2",
   "metadata": {},
   "outputs": [
    {
     "data": {
      "text/html": [
       "<div>\n",
       "<style scoped>\n",
       "    .dataframe tbody tr th:only-of-type {\n",
       "        vertical-align: middle;\n",
       "    }\n",
       "\n",
       "    .dataframe tbody tr th {\n",
       "        vertical-align: top;\n",
       "    }\n",
       "\n",
       "    .dataframe thead th {\n",
       "        text-align: right;\n",
       "    }\n",
       "</style>\n",
       "<table border=\"1\" class=\"dataframe\">\n",
       "  <thead>\n",
       "    <tr style=\"text-align: right;\">\n",
       "      <th></th>\n",
       "      <th>ISIN</th>\n",
       "      <th>Asset Class</th>\n",
       "      <th>Description</th>\n",
       "      <th>Nominal/Quantity</th>\n",
       "      <th>Market Value CHF</th>\n",
       "    </tr>\n",
       "  </thead>\n",
       "  <tbody>\n",
       "    <tr>\n",
       "      <th>0</th>\n",
       "      <td>XS2459025909</td>\n",
       "      <td>Money market Investments</td>\n",
       "      <td>0 ALLZ 22 ECP</td>\n",
       "      <td>EUR 3'000'000</td>\n",
       "      <td>3008851</td>\n",
       "    </tr>\n",
       "    <tr>\n",
       "      <th>1</th>\n",
       "      <td>CH0496692960</td>\n",
       "      <td>Money market Investments</td>\n",
       "      <td>0 BALOISE HLDG 22</td>\n",
       "      <td>CHF 8'100'000</td>\n",
       "      <td>8108100</td>\n",
       "    </tr>\n",
       "    <tr>\n",
       "      <th>2</th>\n",
       "      <td>CH0496692960</td>\n",
       "      <td>Money market Investments</td>\n",
       "      <td>0 BALOISE HLDG 22</td>\n",
       "      <td>CHF 8'400'000</td>\n",
       "      <td>8392440</td>\n",
       "    </tr>\n",
       "    <tr>\n",
       "      <th>3</th>\n",
       "      <td>CH0496692960</td>\n",
       "      <td>Money market Investments</td>\n",
       "      <td>0 BALOISE HLDG 22</td>\n",
       "      <td>CHF 1'000'000</td>\n",
       "      <td>999100</td>\n",
       "    </tr>\n",
       "    <tr>\n",
       "      <th>4</th>\n",
       "      <td>CH0407153342</td>\n",
       "      <td>Money market Investments</td>\n",
       "      <td>0 BLKB 23</td>\n",
       "      <td>CHF 5'000'000</td>\n",
       "      <td>4972500</td>\n",
       "    </tr>\n",
       "  </tbody>\n",
       "</table>\n",
       "</div>"
      ],
      "text/plain": [
       "           ISIN               Asset Class        Description Nominal/Quantity  \\\n",
       "0  XS2459025909  Money market Investments      0 ALLZ 22 ECP    EUR 3'000'000   \n",
       "1  CH0496692960  Money market Investments  0 BALOISE HLDG 22    CHF 8'100'000   \n",
       "2  CH0496692960  Money market Investments  0 BALOISE HLDG 22    CHF 8'400'000   \n",
       "3  CH0496692960  Money market Investments  0 BALOISE HLDG 22    CHF 1'000'000   \n",
       "4  CH0407153342  Money market Investments          0 BLKB 23    CHF 5'000'000   \n",
       "\n",
       "   Market Value CHF  \n",
       "0           3008851  \n",
       "1           8108100  \n",
       "2           8392440  \n",
       "3            999100  \n",
       "4           4972500  "
      ]
     },
     "execution_count": 5,
     "metadata": {},
     "output_type": "execute_result"
    }
   ],
   "source": [
    "df.head()"
   ]
  },
  {
   "cell_type": "markdown",
   "id": "c1aecedb",
   "metadata": {},
   "source": [
    "## Vérifier les montants"
   ]
  },
  {
   "cell_type": "code",
   "execution_count": 6,
   "id": "62def444",
   "metadata": {},
   "outputs": [
    {
     "data": {
      "text/plain": [
       "34454523303"
      ]
     },
     "execution_count": 6,
     "metadata": {},
     "output_type": "execute_result"
    }
   ],
   "source": [
    "df['Market Value CHF'].sum()"
   ]
  },
  {
   "cell_type": "code",
   "execution_count": 7,
   "id": "91e46483",
   "metadata": {},
   "outputs": [
    {
     "data": {
      "text/plain": [
       "5514"
      ]
     },
     "execution_count": 7,
     "metadata": {},
     "output_type": "execute_result"
    }
   ],
   "source": [
    "len(df)"
   ]
  },
  {
   "cell_type": "markdown",
   "id": "aa168a4a",
   "metadata": {},
   "source": [
    "## Mapping Bloomberg pour identifier les compagnies et leur catégorie d'activité\n"
   ]
  },
  {
   "cell_type": "code",
   "execution_count": 8,
   "id": "6cf5be07",
   "metadata": {},
   "outputs": [],
   "source": [
    "### Charger le fichier Bloomberg (Finanz & Wirtschaft)\n",
    "### Créer un dictionnaire avec des ISIN uniques pour identifier l'entreprise\n",
    "\n",
    "bloom = pd.read_excel('mapping.xlsx')\n",
    "\n",
    "bloom = bloom.drop_duplicates(subset=['ISIN'])"
   ]
  },
  {
   "cell_type": "code",
   "execution_count": 9,
   "id": "e1fa2749",
   "metadata": {},
   "outputs": [
    {
     "data": {
      "text/plain": [
       "both          5280\n",
       "right_only     234\n",
       "left_only        0\n",
       "Name: _merge, dtype: int64"
      ]
     },
     "execution_count": 9,
     "metadata": {},
     "output_type": "execute_result"
    }
   ],
   "source": [
    "df = pd.merge(bloom, df, on = \"ISIN\", how = \"right\", indicator = True)\n",
    "\n",
    "# 234 lignes du fichier Compenswiss ne peuvent pas être identifiées\n",
    "df['_merge'].value_counts()"
   ]
  },
  {
   "cell_type": "code",
   "execution_count": 10,
   "id": "ff4899a8",
   "metadata": {},
   "outputs": [
    {
     "data": {
      "text/html": [
       "<div>\n",
       "<style scoped>\n",
       "    .dataframe tbody tr th:only-of-type {\n",
       "        vertical-align: middle;\n",
       "    }\n",
       "\n",
       "    .dataframe tbody tr th {\n",
       "        vertical-align: top;\n",
       "    }\n",
       "\n",
       "    .dataframe thead th {\n",
       "        text-align: right;\n",
       "    }\n",
       "</style>\n",
       "<table border=\"1\" class=\"dataframe\">\n",
       "  <thead>\n",
       "    <tr style=\"text-align: right;\">\n",
       "      <th></th>\n",
       "      <th>ISIN</th>\n",
       "      <th>Date</th>\n",
       "      <th>Name</th>\n",
       "      <th>Ticker</th>\n",
       "      <th>Wertpapiertyp</th>\n",
       "      <th>Emittent</th>\n",
       "      <th>Company Name</th>\n",
       "      <th>Vollständiger Name</th>\n",
       "      <th>Kurzname</th>\n",
       "      <th>Gruppe</th>\n",
       "      <th>Sektor</th>\n",
       "      <th>Untergruppe</th>\n",
       "      <th>Country (P)</th>\n",
       "      <th>Country ISO</th>\n",
       "      <th>Land (Risiko)</th>\n",
       "      <th>Sitzland</th>\n",
       "      <th>Asset Class</th>\n",
       "      <th>Description</th>\n",
       "      <th>Nominal/Quantity</th>\n",
       "      <th>Market Value CHF</th>\n",
       "      <th>_merge</th>\n",
       "    </tr>\n",
       "  </thead>\n",
       "  <tbody>\n",
       "    <tr>\n",
       "      <th>3824</th>\n",
       "      <td>CA01626P3043</td>\n",
       "      <td>NaT</td>\n",
       "      <td>NaN</td>\n",
       "      <td>NaN</td>\n",
       "      <td>NaN</td>\n",
       "      <td>NaN</td>\n",
       "      <td>NaN</td>\n",
       "      <td>NaN</td>\n",
       "      <td>NaN</td>\n",
       "      <td>NaN</td>\n",
       "      <td>NaN</td>\n",
       "      <td>NaN</td>\n",
       "      <td>NaN</td>\n",
       "      <td>NaN</td>\n",
       "      <td>NaN</td>\n",
       "      <td>NaN</td>\n",
       "      <td>Equities</td>\n",
       "      <td>ALIMENT COUCHE -A</td>\n",
       "      <td>43'286</td>\n",
       "      <td>1613004</td>\n",
       "      <td>right_only</td>\n",
       "    </tr>\n",
       "  </tbody>\n",
       "</table>\n",
       "</div>"
      ],
      "text/plain": [
       "              ISIN Date Name Ticker Wertpapiertyp Emittent Company Name  \\\n",
       "3824  CA01626P3043  NaT  NaN    NaN           NaN      NaN          NaN   \n",
       "\n",
       "     Vollständiger Name Kurzname Gruppe Sektor Untergruppe Country (P)  \\\n",
       "3824                NaN      NaN    NaN    NaN         NaN         NaN   \n",
       "\n",
       "     Country ISO Land (Risiko) Sitzland Asset Class        Description  \\\n",
       "3824         NaN           NaN      NaN    Equities  ALIMENT COUCHE -A   \n",
       "\n",
       "     Nominal/Quantity  Market Value CHF      _merge  \n",
       "3824           43'286           1613004  right_only  "
      ]
     },
     "execution_count": 10,
     "metadata": {},
     "output_type": "execute_result"
    }
   ],
   "source": [
    "# Exemple\n",
    "\n",
    "df[df['ISIN'] == 'CA01626P3043']"
   ]
  },
  {
   "cell_type": "code",
   "execution_count": 11,
   "id": "6f43c906",
   "metadata": {},
   "outputs": [
    {
     "data": {
      "text/html": [
       "<div>\n",
       "<style scoped>\n",
       "    .dataframe tbody tr th:only-of-type {\n",
       "        vertical-align: middle;\n",
       "    }\n",
       "\n",
       "    .dataframe tbody tr th {\n",
       "        vertical-align: top;\n",
       "    }\n",
       "\n",
       "    .dataframe thead th {\n",
       "        text-align: right;\n",
       "    }\n",
       "</style>\n",
       "<table border=\"1\" class=\"dataframe\">\n",
       "  <thead>\n",
       "    <tr style=\"text-align: right;\">\n",
       "      <th></th>\n",
       "      <th>ISIN</th>\n",
       "      <th>Date</th>\n",
       "      <th>Name</th>\n",
       "      <th>Ticker</th>\n",
       "      <th>Wertpapiertyp</th>\n",
       "      <th>Emittent</th>\n",
       "      <th>Company Name</th>\n",
       "      <th>Vollständiger Name</th>\n",
       "      <th>Kurzname</th>\n",
       "      <th>Gruppe</th>\n",
       "      <th>Sektor</th>\n",
       "      <th>Untergruppe</th>\n",
       "      <th>Country (P)</th>\n",
       "      <th>Country ISO</th>\n",
       "      <th>Land (Risiko)</th>\n",
       "      <th>Sitzland</th>\n",
       "      <th>Asset Class</th>\n",
       "      <th>Description</th>\n",
       "      <th>Nominal/Quantity</th>\n",
       "      <th>Market Value CHF</th>\n",
       "      <th>_merge</th>\n",
       "    </tr>\n",
       "  </thead>\n",
       "  <tbody>\n",
       "    <tr>\n",
       "      <th>0</th>\n",
       "      <td>XS2459025909</td>\n",
       "      <td>NaT</td>\n",
       "      <td>NaN</td>\n",
       "      <td>NaN</td>\n",
       "      <td>NaN</td>\n",
       "      <td>NaN</td>\n",
       "      <td>NaN</td>\n",
       "      <td>NaN</td>\n",
       "      <td>NaN</td>\n",
       "      <td>NaN</td>\n",
       "      <td>NaN</td>\n",
       "      <td>NaN</td>\n",
       "      <td>NaN</td>\n",
       "      <td>NaN</td>\n",
       "      <td>NaN</td>\n",
       "      <td>NaN</td>\n",
       "      <td>Money market Investments</td>\n",
       "      <td>0 ALLZ 22 ECP</td>\n",
       "      <td>EUR 3'000'000</td>\n",
       "      <td>3008851</td>\n",
       "      <td>right_only</td>\n",
       "    </tr>\n",
       "    <tr>\n",
       "      <th>8</th>\n",
       "      <td>XS2435086652</td>\n",
       "      <td>NaT</td>\n",
       "      <td>NaN</td>\n",
       "      <td>NaN</td>\n",
       "      <td>NaN</td>\n",
       "      <td>NaN</td>\n",
       "      <td>NaN</td>\n",
       "      <td>NaN</td>\n",
       "      <td>NaN</td>\n",
       "      <td>NaN</td>\n",
       "      <td>NaN</td>\n",
       "      <td>NaN</td>\n",
       "      <td>NaN</td>\n",
       "      <td>NaN</td>\n",
       "      <td>NaN</td>\n",
       "      <td>NaN</td>\n",
       "      <td>Money market Investments</td>\n",
       "      <td>0 DNBB 22 ECP</td>\n",
       "      <td>EUR 3'000'000</td>\n",
       "      <td>3015160</td>\n",
       "      <td>right_only</td>\n",
       "    </tr>\n",
       "    <tr>\n",
       "      <th>19</th>\n",
       "      <td>XS2489589874</td>\n",
       "      <td>NaT</td>\n",
       "      <td>NaN</td>\n",
       "      <td>NaN</td>\n",
       "      <td>NaN</td>\n",
       "      <td>NaN</td>\n",
       "      <td>NaN</td>\n",
       "      <td>NaN</td>\n",
       "      <td>NaN</td>\n",
       "      <td>NaN</td>\n",
       "      <td>NaN</td>\n",
       "      <td>NaN</td>\n",
       "      <td>NaN</td>\n",
       "      <td>NaN</td>\n",
       "      <td>NaN</td>\n",
       "      <td>NaN</td>\n",
       "      <td>Money market Investments</td>\n",
       "      <td>0 OPCB 23 ECP</td>\n",
       "      <td>EUR 3'500'000</td>\n",
       "      <td>3503016</td>\n",
       "      <td>right_only</td>\n",
       "    </tr>\n",
       "    <tr>\n",
       "      <th>20</th>\n",
       "      <td>XS2429878700</td>\n",
       "      <td>NaT</td>\n",
       "      <td>NaN</td>\n",
       "      <td>NaN</td>\n",
       "      <td>NaN</td>\n",
       "      <td>NaN</td>\n",
       "      <td>NaN</td>\n",
       "      <td>NaN</td>\n",
       "      <td>NaN</td>\n",
       "      <td>NaN</td>\n",
       "      <td>NaN</td>\n",
       "      <td>NaN</td>\n",
       "      <td>NaN</td>\n",
       "      <td>NaN</td>\n",
       "      <td>NaN</td>\n",
       "      <td>NaN</td>\n",
       "      <td>Money market Investments</td>\n",
       "      <td>0 OPCB 23 ECP</td>\n",
       "      <td>USD 2'000'000</td>\n",
       "      <td>1903345</td>\n",
       "      <td>right_only</td>\n",
       "    </tr>\n",
       "    <tr>\n",
       "      <th>25</th>\n",
       "      <td>FR0127437160</td>\n",
       "      <td>NaT</td>\n",
       "      <td>NaN</td>\n",
       "      <td>NaN</td>\n",
       "      <td>NaN</td>\n",
       "      <td>NaN</td>\n",
       "      <td>NaN</td>\n",
       "      <td>NaN</td>\n",
       "      <td>NaN</td>\n",
       "      <td>NaN</td>\n",
       "      <td>NaN</td>\n",
       "      <td>NaN</td>\n",
       "      <td>NaN</td>\n",
       "      <td>NaN</td>\n",
       "      <td>NaN</td>\n",
       "      <td>NaN</td>\n",
       "      <td>Money market Investments</td>\n",
       "      <td>0 SG 23 ECP</td>\n",
       "      <td>USD 1'000'000</td>\n",
       "      <td>957350</td>\n",
       "      <td>right_only</td>\n",
       "    </tr>\n",
       "  </tbody>\n",
       "</table>\n",
       "</div>"
      ],
      "text/plain": [
       "            ISIN Date Name Ticker Wertpapiertyp Emittent Company Name  \\\n",
       "0   XS2459025909  NaT  NaN    NaN           NaN      NaN          NaN   \n",
       "8   XS2435086652  NaT  NaN    NaN           NaN      NaN          NaN   \n",
       "19  XS2489589874  NaT  NaN    NaN           NaN      NaN          NaN   \n",
       "20  XS2429878700  NaT  NaN    NaN           NaN      NaN          NaN   \n",
       "25  FR0127437160  NaT  NaN    NaN           NaN      NaN          NaN   \n",
       "\n",
       "   Vollständiger Name Kurzname Gruppe Sektor Untergruppe Country (P)  \\\n",
       "0                 NaN      NaN    NaN    NaN         NaN         NaN   \n",
       "8                 NaN      NaN    NaN    NaN         NaN         NaN   \n",
       "19                NaN      NaN    NaN    NaN         NaN         NaN   \n",
       "20                NaN      NaN    NaN    NaN         NaN         NaN   \n",
       "25                NaN      NaN    NaN    NaN         NaN         NaN   \n",
       "\n",
       "   Country ISO Land (Risiko) Sitzland               Asset Class  \\\n",
       "0          NaN           NaN      NaN  Money market Investments   \n",
       "8          NaN           NaN      NaN  Money market Investments   \n",
       "19         NaN           NaN      NaN  Money market Investments   \n",
       "20         NaN           NaN      NaN  Money market Investments   \n",
       "25         NaN           NaN      NaN  Money market Investments   \n",
       "\n",
       "      Description Nominal/Quantity  Market Value CHF      _merge  \n",
       "0   0 ALLZ 22 ECP    EUR 3'000'000           3008851  right_only  \n",
       "8   0 DNBB 22 ECP    EUR 3'000'000           3015160  right_only  \n",
       "19  0 OPCB 23 ECP    EUR 3'500'000           3503016  right_only  \n",
       "20  0 OPCB 23 ECP    USD 2'000'000           1903345  right_only  \n",
       "25    0 SG 23 ECP    USD 1'000'000            957350  right_only  "
      ]
     },
     "execution_count": 11,
     "metadata": {},
     "output_type": "execute_result"
    }
   ],
   "source": [
    "df[df['_merge'] == 'right_only'].head()"
   ]
  },
  {
   "cell_type": "markdown",
   "id": "6340b492",
   "metadata": {},
   "source": [
    "## Tests for manual update"
   ]
  },
  {
   "cell_type": "code",
   "execution_count": 12,
   "id": "474afa1d",
   "metadata": {},
   "outputs": [],
   "source": [
    "# Méthode pour combler les lacunes d'un dataframe avec un dataframe à la structure similaire"
   ]
  },
  {
   "cell_type": "code",
   "execution_count": 13,
   "id": "4a8c60ec",
   "metadata": {},
   "outputs": [
    {
     "data": {
      "text/html": [
       "<div>\n",
       "<style scoped>\n",
       "    .dataframe tbody tr th:only-of-type {\n",
       "        vertical-align: middle;\n",
       "    }\n",
       "\n",
       "    .dataframe tbody tr th {\n",
       "        vertical-align: top;\n",
       "    }\n",
       "\n",
       "    .dataframe thead th {\n",
       "        text-align: right;\n",
       "    }\n",
       "</style>\n",
       "<table border=\"1\" class=\"dataframe\">\n",
       "  <thead>\n",
       "    <tr style=\"text-align: right;\">\n",
       "      <th></th>\n",
       "      <th>id</th>\n",
       "      <th>company</th>\n",
       "      <th>category</th>\n",
       "    </tr>\n",
       "  </thead>\n",
       "  <tbody>\n",
       "    <tr>\n",
       "      <th>0</th>\n",
       "      <td>1</td>\n",
       "      <td>Novartis</td>\n",
       "      <td>pharma</td>\n",
       "    </tr>\n",
       "    <tr>\n",
       "      <th>1</th>\n",
       "      <td>2</td>\n",
       "      <td>Migros</td>\n",
       "      <td>NaN</td>\n",
       "    </tr>\n",
       "  </tbody>\n",
       "</table>\n",
       "</div>"
      ],
      "text/plain": [
       "   id   company category\n",
       "0   1  Novartis   pharma\n",
       "1   2    Migros      NaN"
      ]
     },
     "execution_count": 13,
     "metadata": {},
     "output_type": "execute_result"
    }
   ],
   "source": [
    "df1 = pd.DataFrame({'id':[1,2],\n",
    "                    'company': ['Novartis', np.NaN],\n",
    "                    'category': [np.NaN, \"NaN\"]\n",
    "                   })\n",
    "df2 = pd.DataFrame({'id': [1,2],\n",
    "                    'company': [np.NaN, 'Migros'],\n",
    "                    'category': [\"pharma\", \"retail\"]\n",
    "                   })\n",
    "\n",
    "df1 = df1.set_index(\"id\").combine_first(df2.set_index(\"id\")).reset_index()\n",
    "df1"
   ]
  },
  {
   "cell_type": "markdown",
   "id": "47f1747a",
   "metadata": {},
   "source": [
    "## Editing"
   ]
  },
  {
   "cell_type": "code",
   "execution_count": 14,
   "id": "20695fda",
   "metadata": {},
   "outputs": [],
   "source": [
    "# Charger le fichier contenant des ajouts manuels faits sur Google Sheets\n",
    "\n",
    "transfo = pd.DataFrame(pd.read_csv('transformations_manuelles.csv'))"
   ]
  },
  {
   "cell_type": "code",
   "execution_count": 15,
   "id": "77d915d3",
   "metadata": {},
   "outputs": [
    {
     "data": {
      "text/html": [
       "<div>\n",
       "<style scoped>\n",
       "    .dataframe tbody tr th:only-of-type {\n",
       "        vertical-align: middle;\n",
       "    }\n",
       "\n",
       "    .dataframe tbody tr th {\n",
       "        vertical-align: top;\n",
       "    }\n",
       "\n",
       "    .dataframe thead th {\n",
       "        text-align: right;\n",
       "    }\n",
       "</style>\n",
       "<table border=\"1\" class=\"dataframe\">\n",
       "  <thead>\n",
       "    <tr style=\"text-align: right;\">\n",
       "      <th></th>\n",
       "      <th>ISIN</th>\n",
       "      <th>Date</th>\n",
       "      <th>Name</th>\n",
       "      <th>Ticker</th>\n",
       "      <th>Wertpapiertyp</th>\n",
       "      <th>Emittent</th>\n",
       "      <th>Company Name</th>\n",
       "      <th>Vollständiger Name</th>\n",
       "      <th>Kurzname</th>\n",
       "      <th>Gruppe</th>\n",
       "      <th>Sektor</th>\n",
       "      <th>Untergruppe</th>\n",
       "      <th>Country (P)</th>\n",
       "      <th>Country ISO</th>\n",
       "      <th>Land (Risiko)</th>\n",
       "      <th>Sitzland</th>\n",
       "      <th>Asset Class</th>\n",
       "      <th>Description</th>\n",
       "      <th>Currency</th>\n",
       "      <th>Nominal/Quantity</th>\n",
       "      <th>Market Value CHF</th>\n",
       "      <th>Date.1</th>\n",
       "      <th>_merge</th>\n",
       "    </tr>\n",
       "  </thead>\n",
       "  <tbody>\n",
       "    <tr>\n",
       "      <th>2</th>\n",
       "      <td>FR0127437160</td>\n",
       "      <td>NaN</td>\n",
       "      <td>NaN</td>\n",
       "      <td>NaN</td>\n",
       "      <td>NaN</td>\n",
       "      <td>NaN</td>\n",
       "      <td>Société Generale</td>\n",
       "      <td>NaN</td>\n",
       "      <td>NaN</td>\n",
       "      <td>Banks</td>\n",
       "      <td>NaN</td>\n",
       "      <td>NaN</td>\n",
       "      <td>NaN</td>\n",
       "      <td>NaN</td>\n",
       "      <td>NaN</td>\n",
       "      <td>NaN</td>\n",
       "      <td>Money market Investments</td>\n",
       "      <td>0 SG 23 ECP</td>\n",
       "      <td>NaN</td>\n",
       "      <td>USD 1'000'000</td>\n",
       "      <td>957350</td>\n",
       "      <td>True</td>\n",
       "      <td>right_only</td>\n",
       "    </tr>\n",
       "  </tbody>\n",
       "</table>\n",
       "</div>"
      ],
      "text/plain": [
       "           ISIN  Date  Name  Ticker  Wertpapiertyp  Emittent  \\\n",
       "2  FR0127437160   NaN   NaN     NaN            NaN       NaN   \n",
       "\n",
       "       Company Name  Vollständiger Name  Kurzname Gruppe  Sektor  Untergruppe  \\\n",
       "2  Société Generale                 NaN       NaN  Banks     NaN          NaN   \n",
       "\n",
       "   Country (P)  Country ISO  Land (Risiko)  Sitzland  \\\n",
       "2          NaN          NaN            NaN       NaN   \n",
       "\n",
       "                Asset Class  Description  Currency Nominal/Quantity  \\\n",
       "2  Money market Investments  0 SG 23 ECP       NaN    USD 1'000'000   \n",
       "\n",
       "   Market Value CHF  Date.1      _merge  \n",
       "2            957350    True  right_only  "
      ]
     },
     "execution_count": 15,
     "metadata": {},
     "output_type": "execute_result"
    }
   ],
   "source": [
    "transfo.sample()"
   ]
  },
  {
   "cell_type": "code",
   "execution_count": 16,
   "id": "9006fe40",
   "metadata": {},
   "outputs": [],
   "source": [
    "# Fill df NaNs with transfo values (Company Name and Gruppe), 10 rows modified\n",
    "# Combler les cellules manquants des colonnes Company Name et Gruppe (NaN) du fichier Compenswiss avec les ajouts manuels\n",
    "\n",
    "df = df.set_index(\"ISIN\").combine_first(transfo.set_index(\"ISIN\")).reset_index()\n"
   ]
  },
  {
   "cell_type": "code",
   "execution_count": 17,
   "id": "8cc12a67",
   "metadata": {},
   "outputs": [
    {
     "data": {
      "text/html": [
       "<div>\n",
       "<style scoped>\n",
       "    .dataframe tbody tr th:only-of-type {\n",
       "        vertical-align: middle;\n",
       "    }\n",
       "\n",
       "    .dataframe tbody tr th {\n",
       "        vertical-align: top;\n",
       "    }\n",
       "\n",
       "    .dataframe thead th {\n",
       "        text-align: right;\n",
       "    }\n",
       "</style>\n",
       "<table border=\"1\" class=\"dataframe\">\n",
       "  <thead>\n",
       "    <tr style=\"text-align: right;\">\n",
       "      <th></th>\n",
       "      <th>ISIN</th>\n",
       "      <th>Asset Class</th>\n",
       "      <th>Company Name</th>\n",
       "      <th>Country (P)</th>\n",
       "      <th>Country ISO</th>\n",
       "      <th>Currency</th>\n",
       "      <th>Date</th>\n",
       "      <th>Date.1</th>\n",
       "      <th>Description</th>\n",
       "      <th>Emittent</th>\n",
       "      <th>Gruppe</th>\n",
       "      <th>Kurzname</th>\n",
       "      <th>Land (Risiko)</th>\n",
       "      <th>Market Value CHF</th>\n",
       "      <th>Name</th>\n",
       "      <th>Nominal/Quantity</th>\n",
       "      <th>Sektor</th>\n",
       "      <th>Sitzland</th>\n",
       "      <th>Ticker</th>\n",
       "      <th>Untergruppe</th>\n",
       "      <th>Vollständiger Name</th>\n",
       "      <th>Wertpapiertyp</th>\n",
       "      <th>_merge</th>\n",
       "    </tr>\n",
       "  </thead>\n",
       "  <tbody>\n",
       "    <tr>\n",
       "      <th>3582</th>\n",
       "      <td>US276480AE09</td>\n",
       "      <td>Foreign Currency bonds</td>\n",
       "      <td>Eastern Gas Transmission &amp; Storage Inc</td>\n",
       "      <td>NaN</td>\n",
       "      <td>NaN</td>\n",
       "      <td>NaN</td>\n",
       "      <td>NaT</td>\n",
       "      <td>False</td>\n",
       "      <td>4.8 EAST 43NTS-144A</td>\n",
       "      <td>NaN</td>\n",
       "      <td>Gas</td>\n",
       "      <td>NaN</td>\n",
       "      <td>NaN</td>\n",
       "      <td>559122.0</td>\n",
       "      <td>NaN</td>\n",
       "      <td>USD 625'000</td>\n",
       "      <td>NaN</td>\n",
       "      <td>NaN</td>\n",
       "      <td>NaN</td>\n",
       "      <td>NaN</td>\n",
       "      <td>NaN</td>\n",
       "      <td>NaN</td>\n",
       "      <td>right_only</td>\n",
       "    </tr>\n",
       "  </tbody>\n",
       "</table>\n",
       "</div>"
      ],
      "text/plain": [
       "              ISIN             Asset Class  \\\n",
       "3582  US276480AE09  Foreign Currency bonds   \n",
       "\n",
       "                                 Company Name Country (P) Country ISO  \\\n",
       "3582  Eastern Gas Transmission & Storage Inc          NaN         NaN   \n",
       "\n",
       "      Currency Date Date.1          Description Emittent Gruppe Kurzname  \\\n",
       "3582       NaN  NaT  False  4.8 EAST 43NTS-144A      NaN    Gas      NaN   \n",
       "\n",
       "     Land (Risiko)  Market Value CHF Name Nominal/Quantity Sektor Sitzland  \\\n",
       "3582           NaN          559122.0  NaN      USD 625'000    NaN      NaN   \n",
       "\n",
       "     Ticker Untergruppe Vollständiger Name Wertpapiertyp      _merge  \n",
       "3582    NaN         NaN                NaN           NaN  right_only  "
      ]
     },
     "execution_count": 17,
     "metadata": {},
     "output_type": "execute_result"
    }
   ],
   "source": [
    "# Exemples\n",
    "\n",
    "df[df.apply(lambda row: row.astype(str).str.contains(\"US276480AE09\", case=False).any(), axis=1)]\n"
   ]
  },
  {
   "cell_type": "code",
   "execution_count": 18,
   "id": "8e546068",
   "metadata": {},
   "outputs": [
    {
     "data": {
      "text/html": [
       "<div>\n",
       "<style scoped>\n",
       "    .dataframe tbody tr th:only-of-type {\n",
       "        vertical-align: middle;\n",
       "    }\n",
       "\n",
       "    .dataframe tbody tr th {\n",
       "        vertical-align: top;\n",
       "    }\n",
       "\n",
       "    .dataframe thead th {\n",
       "        text-align: right;\n",
       "    }\n",
       "</style>\n",
       "<table border=\"1\" class=\"dataframe\">\n",
       "  <thead>\n",
       "    <tr style=\"text-align: right;\">\n",
       "      <th></th>\n",
       "      <th>ISIN</th>\n",
       "      <th>Asset Class</th>\n",
       "      <th>Company Name</th>\n",
       "      <th>Country (P)</th>\n",
       "      <th>Country ISO</th>\n",
       "      <th>Currency</th>\n",
       "      <th>Date</th>\n",
       "      <th>Date.1</th>\n",
       "      <th>Description</th>\n",
       "      <th>Emittent</th>\n",
       "      <th>Gruppe</th>\n",
       "      <th>Kurzname</th>\n",
       "      <th>Land (Risiko)</th>\n",
       "      <th>Market Value CHF</th>\n",
       "      <th>Name</th>\n",
       "      <th>Nominal/Quantity</th>\n",
       "      <th>Sektor</th>\n",
       "      <th>Sitzland</th>\n",
       "      <th>Ticker</th>\n",
       "      <th>Untergruppe</th>\n",
       "      <th>Vollständiger Name</th>\n",
       "      <th>Wertpapiertyp</th>\n",
       "      <th>_merge</th>\n",
       "    </tr>\n",
       "  </thead>\n",
       "  <tbody>\n",
       "    <tr>\n",
       "      <th>5384</th>\n",
       "      <td>XS2429878700</td>\n",
       "      <td>Money market Investments</td>\n",
       "      <td>OP YRITYSPANK</td>\n",
       "      <td>NaN</td>\n",
       "      <td>NaN</td>\n",
       "      <td>NaN</td>\n",
       "      <td>NaT</td>\n",
       "      <td>True</td>\n",
       "      <td>0 OPCB 23 ECP</td>\n",
       "      <td>NaN</td>\n",
       "      <td>Banks</td>\n",
       "      <td>NaN</td>\n",
       "      <td>NaN</td>\n",
       "      <td>1903345.0</td>\n",
       "      <td>NaN</td>\n",
       "      <td>USD 2'000'000</td>\n",
       "      <td>NaN</td>\n",
       "      <td>NaN</td>\n",
       "      <td>NaN</td>\n",
       "      <td>NaN</td>\n",
       "      <td>NaN</td>\n",
       "      <td>NaN</td>\n",
       "      <td>right_only</td>\n",
       "    </tr>\n",
       "  </tbody>\n",
       "</table>\n",
       "</div>"
      ],
      "text/plain": [
       "              ISIN               Asset Class   Company Name Country (P)  \\\n",
       "5384  XS2429878700  Money market Investments  OP YRITYSPANK         NaN   \n",
       "\n",
       "     Country ISO  Currency Date Date.1    Description Emittent Gruppe  \\\n",
       "5384         NaN       NaN  NaT   True  0 OPCB 23 ECP      NaN  Banks   \n",
       "\n",
       "     Kurzname Land (Risiko)  Market Value CHF Name Nominal/Quantity Sektor  \\\n",
       "5384      NaN           NaN         1903345.0  NaN    USD 2'000'000    NaN   \n",
       "\n",
       "     Sitzland Ticker Untergruppe Vollständiger Name Wertpapiertyp      _merge  \n",
       "5384      NaN    NaN         NaN                NaN           NaN  right_only  "
      ]
     },
     "execution_count": 18,
     "metadata": {},
     "output_type": "execute_result"
    }
   ],
   "source": [
    "df[df.apply(lambda row: row.astype(str).str.contains(\"XS2429878700\", case=False).any(), axis=1)]\n"
   ]
  },
  {
   "cell_type": "markdown",
   "id": "4df50c57",
   "metadata": {},
   "source": [
    "## Analyses"
   ]
  },
  {
   "cell_type": "markdown",
   "id": "018964b0",
   "metadata": {},
   "source": [
    "#### La valeur la plus haute est un fond Pictet"
   ]
  },
  {
   "cell_type": "code",
   "execution_count": 19,
   "id": "50f41b41",
   "metadata": {},
   "outputs": [
    {
     "data": {
      "text/html": [
       "<div>\n",
       "<style scoped>\n",
       "    .dataframe tbody tr th:only-of-type {\n",
       "        vertical-align: middle;\n",
       "    }\n",
       "\n",
       "    .dataframe tbody tr th {\n",
       "        vertical-align: top;\n",
       "    }\n",
       "\n",
       "    .dataframe thead th {\n",
       "        text-align: right;\n",
       "    }\n",
       "</style>\n",
       "<table border=\"1\" class=\"dataframe\">\n",
       "  <thead>\n",
       "    <tr style=\"text-align: right;\">\n",
       "      <th></th>\n",
       "      <th>ISIN</th>\n",
       "      <th>Asset Class</th>\n",
       "      <th>Company Name</th>\n",
       "      <th>Country (P)</th>\n",
       "      <th>Country ISO</th>\n",
       "      <th>Currency</th>\n",
       "      <th>Date</th>\n",
       "      <th>Date.1</th>\n",
       "      <th>Description</th>\n",
       "      <th>Emittent</th>\n",
       "      <th>Gruppe</th>\n",
       "      <th>Kurzname</th>\n",
       "      <th>Land (Risiko)</th>\n",
       "      <th>Market Value CHF</th>\n",
       "      <th>Name</th>\n",
       "      <th>Nominal/Quantity</th>\n",
       "      <th>Sektor</th>\n",
       "      <th>Sitzland</th>\n",
       "      <th>Ticker</th>\n",
       "      <th>Untergruppe</th>\n",
       "      <th>Vollständiger Name</th>\n",
       "      <th>Wertpapiertyp</th>\n",
       "      <th>_merge</th>\n",
       "    </tr>\n",
       "  </thead>\n",
       "  <tbody>\n",
       "    <tr>\n",
       "      <th>456</th>\n",
       "      <td>CH0180951227</td>\n",
       "      <td>Equities</td>\n",
       "      <td>Pictet CH Institutional - Emerging Markets Tra...</td>\n",
       "      <td>0</td>\n",
       "      <td>0</td>\n",
       "      <td>NaN</td>\n",
       "      <td>2022-06-30</td>\n",
       "      <td>NaN</td>\n",
       "      <td>PICTCHEMMKTT Z USD</td>\n",
       "      <td>Pictet CH Institutional - Emer</td>\n",
       "      <td>Equity Fund</td>\n",
       "      <td>PIC-EM MK T-Z$</td>\n",
       "      <td>CH</td>\n",
       "      <td>1.787431e+09</td>\n",
       "      <td>PICTET CH-EMERGING MK T-ZUSD</td>\n",
       "      <td>1'122'632</td>\n",
       "      <td>Funds</td>\n",
       "      <td>CH</td>\n",
       "      <td>PICEMZU</td>\n",
       "      <td>Emerging Market-Equity</td>\n",
       "      <td>PICTET CH-EMERGING MK T-ZUSD</td>\n",
       "      <td>Open-End Funds</td>\n",
       "      <td>both</td>\n",
       "    </tr>\n",
       "  </tbody>\n",
       "</table>\n",
       "</div>"
      ],
      "text/plain": [
       "             ISIN Asset Class  \\\n",
       "456  CH0180951227    Equities   \n",
       "\n",
       "                                          Company Name Country (P)  \\\n",
       "456  Pictet CH Institutional - Emerging Markets Tra...           0   \n",
       "\n",
       "    Country ISO  Currency       Date Date.1         Description  \\\n",
       "456           0       NaN 2022-06-30    NaN  PICTCHEMMKTT Z USD   \n",
       "\n",
       "                           Emittent       Gruppe        Kurzname  \\\n",
       "456  Pictet CH Institutional - Emer  Equity Fund  PIC-EM MK T-Z$   \n",
       "\n",
       "    Land (Risiko)  Market Value CHF                          Name  \\\n",
       "456            CH      1.787431e+09  PICTET CH-EMERGING MK T-ZUSD   \n",
       "\n",
       "    Nominal/Quantity Sektor Sitzland   Ticker             Untergruppe  \\\n",
       "456        1'122'632  Funds       CH  PICEMZU  Emerging Market-Equity   \n",
       "\n",
       "               Vollständiger Name   Wertpapiertyp _merge  \n",
       "456  PICTET CH-EMERGING MK T-ZUSD  Open-End Funds   both  "
      ]
     },
     "execution_count": 19,
     "metadata": {},
     "output_type": "execute_result"
    }
   ],
   "source": [
    "df[df['Market Value CHF'] == df['Market Value CHF'].max()]"
   ]
  },
  {
   "cell_type": "code",
   "execution_count": 20,
   "id": "d35d4611",
   "metadata": {},
   "outputs": [
    {
     "data": {
      "text/html": [
       "<div>\n",
       "<style scoped>\n",
       "    .dataframe tbody tr th:only-of-type {\n",
       "        vertical-align: middle;\n",
       "    }\n",
       "\n",
       "    .dataframe tbody tr th {\n",
       "        vertical-align: top;\n",
       "    }\n",
       "\n",
       "    .dataframe thead th {\n",
       "        text-align: right;\n",
       "    }\n",
       "</style>\n",
       "<table border=\"1\" class=\"dataframe\">\n",
       "  <thead>\n",
       "    <tr style=\"text-align: right;\">\n",
       "      <th></th>\n",
       "      <th>ISIN</th>\n",
       "      <th>Asset Class</th>\n",
       "      <th>Company Name</th>\n",
       "      <th>Country (P)</th>\n",
       "      <th>Country ISO</th>\n",
       "      <th>Currency</th>\n",
       "      <th>Date</th>\n",
       "      <th>Date.1</th>\n",
       "      <th>Description</th>\n",
       "      <th>Emittent</th>\n",
       "      <th>Gruppe</th>\n",
       "      <th>Kurzname</th>\n",
       "      <th>Land (Risiko)</th>\n",
       "      <th>Market Value CHF</th>\n",
       "      <th>Name</th>\n",
       "      <th>Nominal/Quantity</th>\n",
       "      <th>Sektor</th>\n",
       "      <th>Sitzland</th>\n",
       "      <th>Ticker</th>\n",
       "      <th>Untergruppe</th>\n",
       "      <th>Vollständiger Name</th>\n",
       "      <th>Wertpapiertyp</th>\n",
       "      <th>_merge</th>\n",
       "    </tr>\n",
       "  </thead>\n",
       "  <tbody>\n",
       "    <tr>\n",
       "      <th>456</th>\n",
       "      <td>CH0180951227</td>\n",
       "      <td>Equities</td>\n",
       "      <td>Pictet CH Institutional - Emerging Markets Tra...</td>\n",
       "      <td>0</td>\n",
       "      <td>0</td>\n",
       "      <td>NaN</td>\n",
       "      <td>2022-06-30</td>\n",
       "      <td>NaN</td>\n",
       "      <td>PICTCHEMMKTT Z USD</td>\n",
       "      <td>Pictet CH Institutional - Emer</td>\n",
       "      <td>Equity Fund</td>\n",
       "      <td>PIC-EM MK T-Z$</td>\n",
       "      <td>CH</td>\n",
       "      <td>1.787431e+09</td>\n",
       "      <td>PICTET CH-EMERGING MK T-ZUSD</td>\n",
       "      <td>1'122'632</td>\n",
       "      <td>Funds</td>\n",
       "      <td>CH</td>\n",
       "      <td>PICEMZU</td>\n",
       "      <td>Emerging Market-Equity</td>\n",
       "      <td>PICTET CH-EMERGING MK T-ZUSD</td>\n",
       "      <td>Open-End Funds</td>\n",
       "      <td>both</td>\n",
       "    </tr>\n",
       "    <tr>\n",
       "      <th>5513</th>\n",
       "      <td>NaN</td>\n",
       "      <td>Commodities</td>\n",
       "      <td>NaN</td>\n",
       "      <td>NaN</td>\n",
       "      <td>NaN</td>\n",
       "      <td>NaN</td>\n",
       "      <td>NaT</td>\n",
       "      <td>NaN</td>\n",
       "      <td>GOLD - LBMA GOOD DELIVERY BARS</td>\n",
       "      <td>NaN</td>\n",
       "      <td>NaN</td>\n",
       "      <td>NaN</td>\n",
       "      <td>NaN</td>\n",
       "      <td>1.183595e+09</td>\n",
       "      <td>NaN</td>\n",
       "      <td>NaN</td>\n",
       "      <td>NaN</td>\n",
       "      <td>NaN</td>\n",
       "      <td>NaN</td>\n",
       "      <td>NaN</td>\n",
       "      <td>NaN</td>\n",
       "      <td>NaN</td>\n",
       "      <td>right_only</td>\n",
       "    </tr>\n",
       "    <tr>\n",
       "      <th>5487</th>\n",
       "      <td>NaN</td>\n",
       "      <td>Loans</td>\n",
       "      <td>NaN</td>\n",
       "      <td>NaN</td>\n",
       "      <td>NaN</td>\n",
       "      <td>NaN</td>\n",
       "      <td>NaT</td>\n",
       "      <td>NaN</td>\n",
       "      <td>COMPENSWISS LOAN PORTFOLIO</td>\n",
       "      <td>NaN</td>\n",
       "      <td>NaN</td>\n",
       "      <td>NaN</td>\n",
       "      <td>NaN</td>\n",
       "      <td>1.141047e+09</td>\n",
       "      <td>NaN</td>\n",
       "      <td>NaN</td>\n",
       "      <td>NaN</td>\n",
       "      <td>NaN</td>\n",
       "      <td>NaN</td>\n",
       "      <td>NaN</td>\n",
       "      <td>NaN</td>\n",
       "      <td>NaN</td>\n",
       "      <td>right_only</td>\n",
       "    </tr>\n",
       "    <tr>\n",
       "      <th>2514</th>\n",
       "      <td>IE00BCQNQM04</td>\n",
       "      <td>Foreign Currency bonds</td>\n",
       "      <td>Legg Mason Western Asset US Mortgage-Backed Se...</td>\n",
       "      <td>0</td>\n",
       "      <td>0</td>\n",
       "      <td>NaN</td>\n",
       "      <td>2022-06-30</td>\n",
       "      <td>NaN</td>\n",
       "      <td>LM WA MBS USD-LM-AC</td>\n",
       "      <td>Legg Mason Western Asset US Mo</td>\n",
       "      <td>Debt Fund</td>\n",
       "      <td>LEGG-US MOR-A$</td>\n",
       "      <td>IE</td>\n",
       "      <td>1.023083e+09</td>\n",
       "      <td>LEGG MAS US MORT BACK-A USD</td>\n",
       "      <td>10'358'850</td>\n",
       "      <td>Funds</td>\n",
       "      <td>IE</td>\n",
       "      <td>WANBLAU</td>\n",
       "      <td>Unclassified</td>\n",
       "      <td>LEGG MAS US MORT BACK-A USD</td>\n",
       "      <td>Open-End Funds</td>\n",
       "      <td>both</td>\n",
       "    </tr>\n",
       "    <tr>\n",
       "      <th>5498</th>\n",
       "      <td>NaN</td>\n",
       "      <td>Real Estate</td>\n",
       "      <td>NaN</td>\n",
       "      <td>NaN</td>\n",
       "      <td>NaN</td>\n",
       "      <td>NaN</td>\n",
       "      <td>NaT</td>\n",
       "      <td>NaN</td>\n",
       "      <td>Immobilien Schweiz II</td>\n",
       "      <td>NaN</td>\n",
       "      <td>NaN</td>\n",
       "      <td>NaN</td>\n",
       "      <td>NaN</td>\n",
       "      <td>9.363521e+08</td>\n",
       "      <td>NaN</td>\n",
       "      <td>NaN</td>\n",
       "      <td>NaN</td>\n",
       "      <td>NaN</td>\n",
       "      <td>NaN</td>\n",
       "      <td>NaN</td>\n",
       "      <td>NaN</td>\n",
       "      <td>NaN</td>\n",
       "      <td>right_only</td>\n",
       "    </tr>\n",
       "    <tr>\n",
       "      <th>5497</th>\n",
       "      <td>NaN</td>\n",
       "      <td>Real Estate</td>\n",
       "      <td>NaN</td>\n",
       "      <td>NaN</td>\n",
       "      <td>NaN</td>\n",
       "      <td>NaN</td>\n",
       "      <td>NaT</td>\n",
       "      <td>NaN</td>\n",
       "      <td>Immobilien Schweiz I</td>\n",
       "      <td>NaN</td>\n",
       "      <td>NaN</td>\n",
       "      <td>NaN</td>\n",
       "      <td>NaN</td>\n",
       "      <td>9.250254e+08</td>\n",
       "      <td>NaN</td>\n",
       "      <td>NaN</td>\n",
       "      <td>NaN</td>\n",
       "      <td>NaN</td>\n",
       "      <td>NaN</td>\n",
       "      <td>NaN</td>\n",
       "      <td>NaN</td>\n",
       "      <td>NaN</td>\n",
       "      <td>right_only</td>\n",
       "    </tr>\n",
       "    <tr>\n",
       "      <th>2511</th>\n",
       "      <td>IE00B6YX4R11</td>\n",
       "      <td>Foreign Currency bonds</td>\n",
       "      <td>NaN</td>\n",
       "      <td>NaN</td>\n",
       "      <td>NaN</td>\n",
       "      <td>NaN</td>\n",
       "      <td>NaT</td>\n",
       "      <td>NaN</td>\n",
       "      <td>BAR EU LN EUR-TB-AC</td>\n",
       "      <td>NaN</td>\n",
       "      <td>NaN</td>\n",
       "      <td>NaN</td>\n",
       "      <td>NaN</td>\n",
       "      <td>6.547622e+08</td>\n",
       "      <td>NaN</td>\n",
       "      <td>4'109'825</td>\n",
       "      <td>NaN</td>\n",
       "      <td>NaN</td>\n",
       "      <td>NaN</td>\n",
       "      <td>NaN</td>\n",
       "      <td>NaN</td>\n",
       "      <td>NaN</td>\n",
       "      <td>right_only</td>\n",
       "    </tr>\n",
       "    <tr>\n",
       "      <th>605</th>\n",
       "      <td>CH0244037112</td>\n",
       "      <td>Equities</td>\n",
       "      <td>iShares World ex Switzerland Small Cap Equity ...</td>\n",
       "      <td>0</td>\n",
       "      <td>0</td>\n",
       "      <td>NaN</td>\n",
       "      <td>2022-06-30</td>\n",
       "      <td>NaN</td>\n",
       "      <td>ISWSSCEIFC-X0 N CHF</td>\n",
       "      <td>iShares World ex Switzerland S</td>\n",
       "      <td>Equity Fund</td>\n",
       "      <td>ISH-EXW S/C-X0CH</td>\n",
       "      <td>CH</td>\n",
       "      <td>6.186225e+08</td>\n",
       "      <td>ISH W EX SW S/C EQ IN-X0NCHF</td>\n",
       "      <td>364'603</td>\n",
       "      <td>Funds</td>\n",
       "      <td>CH</td>\n",
       "      <td>BSSXCX0</td>\n",
       "      <td>Unclassified</td>\n",
       "      <td>ISH W EX SW S/C EQ IN-X0NCHF</td>\n",
       "      <td>Open-End Funds</td>\n",
       "      <td>both</td>\n",
       "    </tr>\n",
       "    <tr>\n",
       "      <th>2512</th>\n",
       "      <td>IE00B6ZNT534</td>\n",
       "      <td>Foreign Currency bonds</td>\n",
       "      <td>NaN</td>\n",
       "      <td>NaN</td>\n",
       "      <td>NaN</td>\n",
       "      <td>NaN</td>\n",
       "      <td>NaT</td>\n",
       "      <td>NaN</td>\n",
       "      <td>GUGG U.S. LN USD-AC</td>\n",
       "      <td>NaN</td>\n",
       "      <td>NaN</td>\n",
       "      <td>NaN</td>\n",
       "      <td>NaN</td>\n",
       "      <td>5.628512e+08</td>\n",
       "      <td>NaN</td>\n",
       "      <td>3'678'439</td>\n",
       "      <td>NaN</td>\n",
       "      <td>NaN</td>\n",
       "      <td>NaN</td>\n",
       "      <td>NaN</td>\n",
       "      <td>NaN</td>\n",
       "      <td>NaN</td>\n",
       "      <td>right_only</td>\n",
       "    </tr>\n",
       "    <tr>\n",
       "      <th>2527</th>\n",
       "      <td>IE00BYQP5H80</td>\n",
       "      <td>Foreign Currency bonds</td>\n",
       "      <td>Legg Mason Western Asset Structured Opportunit...</td>\n",
       "      <td>0</td>\n",
       "      <td>0</td>\n",
       "      <td>NaN</td>\n",
       "      <td>2022-06-30</td>\n",
       "      <td>NaN</td>\n",
       "      <td>LM STR OP USD-LM-AC</td>\n",
       "      <td>Legg Mason Western Asset Struc</td>\n",
       "      <td>Debt Fund</td>\n",
       "      <td>LEGG-AST OPP-A$</td>\n",
       "      <td>IE</td>\n",
       "      <td>3.917663e+08</td>\n",
       "      <td>LEGG MAS WES AST STR OP-AUSD</td>\n",
       "      <td>3'020'973</td>\n",
       "      <td>Funds</td>\n",
       "      <td>IE</td>\n",
       "      <td>WASOLAU</td>\n",
       "      <td>Unclassified</td>\n",
       "      <td>LEGG MAS WES AST STR OP-AUSD</td>\n",
       "      <td>Open-End Funds</td>\n",
       "      <td>both</td>\n",
       "    </tr>\n",
       "  </tbody>\n",
       "</table>\n",
       "</div>"
      ],
      "text/plain": [
       "              ISIN             Asset Class  \\\n",
       "456   CH0180951227                Equities   \n",
       "5513           NaN             Commodities   \n",
       "5487           NaN                   Loans   \n",
       "2514  IE00BCQNQM04  Foreign Currency bonds   \n",
       "5498           NaN             Real Estate   \n",
       "5497           NaN             Real Estate   \n",
       "2511  IE00B6YX4R11  Foreign Currency bonds   \n",
       "605   CH0244037112                Equities   \n",
       "2512  IE00B6ZNT534  Foreign Currency bonds   \n",
       "2527  IE00BYQP5H80  Foreign Currency bonds   \n",
       "\n",
       "                                           Company Name Country (P)  \\\n",
       "456   Pictet CH Institutional - Emerging Markets Tra...           0   \n",
       "5513                                                NaN         NaN   \n",
       "5487                                                NaN         NaN   \n",
       "2514  Legg Mason Western Asset US Mortgage-Backed Se...           0   \n",
       "5498                                                NaN         NaN   \n",
       "5497                                                NaN         NaN   \n",
       "2511                                                NaN         NaN   \n",
       "605   iShares World ex Switzerland Small Cap Equity ...           0   \n",
       "2512                                                NaN         NaN   \n",
       "2527  Legg Mason Western Asset Structured Opportunit...           0   \n",
       "\n",
       "     Country ISO  Currency       Date Date.1                     Description  \\\n",
       "456            0       NaN 2022-06-30    NaN              PICTCHEMMKTT Z USD   \n",
       "5513         NaN       NaN        NaT    NaN  GOLD - LBMA GOOD DELIVERY BARS   \n",
       "5487         NaN       NaN        NaT    NaN      COMPENSWISS LOAN PORTFOLIO   \n",
       "2514           0       NaN 2022-06-30    NaN             LM WA MBS USD-LM-AC   \n",
       "5498         NaN       NaN        NaT    NaN           Immobilien Schweiz II   \n",
       "5497         NaN       NaN        NaT    NaN            Immobilien Schweiz I   \n",
       "2511         NaN       NaN        NaT    NaN             BAR EU LN EUR-TB-AC   \n",
       "605            0       NaN 2022-06-30    NaN             ISWSSCEIFC-X0 N CHF   \n",
       "2512         NaN       NaN        NaT    NaN             GUGG U.S. LN USD-AC   \n",
       "2527           0       NaN 2022-06-30    NaN             LM STR OP USD-LM-AC   \n",
       "\n",
       "                            Emittent       Gruppe          Kurzname  \\\n",
       "456   Pictet CH Institutional - Emer  Equity Fund    PIC-EM MK T-Z$   \n",
       "5513                             NaN          NaN               NaN   \n",
       "5487                             NaN          NaN               NaN   \n",
       "2514  Legg Mason Western Asset US Mo    Debt Fund    LEGG-US MOR-A$   \n",
       "5498                             NaN          NaN               NaN   \n",
       "5497                             NaN          NaN               NaN   \n",
       "2511                             NaN          NaN               NaN   \n",
       "605   iShares World ex Switzerland S  Equity Fund  ISH-EXW S/C-X0CH   \n",
       "2512                             NaN          NaN               NaN   \n",
       "2527  Legg Mason Western Asset Struc    Debt Fund   LEGG-AST OPP-A$   \n",
       "\n",
       "     Land (Risiko)  Market Value CHF                          Name  \\\n",
       "456             CH      1.787431e+09  PICTET CH-EMERGING MK T-ZUSD   \n",
       "5513           NaN      1.183595e+09                           NaN   \n",
       "5487           NaN      1.141047e+09                           NaN   \n",
       "2514            IE      1.023083e+09   LEGG MAS US MORT BACK-A USD   \n",
       "5498           NaN      9.363521e+08                           NaN   \n",
       "5497           NaN      9.250254e+08                           NaN   \n",
       "2511           NaN      6.547622e+08                           NaN   \n",
       "605             CH      6.186225e+08  ISH W EX SW S/C EQ IN-X0NCHF   \n",
       "2512           NaN      5.628512e+08                           NaN   \n",
       "2527            IE      3.917663e+08  LEGG MAS WES AST STR OP-AUSD   \n",
       "\n",
       "     Nominal/Quantity Sektor Sitzland   Ticker             Untergruppe  \\\n",
       "456         1'122'632  Funds       CH  PICEMZU  Emerging Market-Equity   \n",
       "5513              NaN    NaN      NaN      NaN                     NaN   \n",
       "5487              NaN    NaN      NaN      NaN                     NaN   \n",
       "2514       10'358'850  Funds       IE  WANBLAU            Unclassified   \n",
       "5498              NaN    NaN      NaN      NaN                     NaN   \n",
       "5497              NaN    NaN      NaN      NaN                     NaN   \n",
       "2511        4'109'825    NaN      NaN      NaN                     NaN   \n",
       "605           364'603  Funds       CH  BSSXCX0            Unclassified   \n",
       "2512        3'678'439    NaN      NaN      NaN                     NaN   \n",
       "2527        3'020'973  Funds       IE  WASOLAU            Unclassified   \n",
       "\n",
       "                Vollständiger Name   Wertpapiertyp      _merge  \n",
       "456   PICTET CH-EMERGING MK T-ZUSD  Open-End Funds        both  \n",
       "5513                           NaN             NaN  right_only  \n",
       "5487                           NaN             NaN  right_only  \n",
       "2514   LEGG MAS US MORT BACK-A USD  Open-End Funds        both  \n",
       "5498                           NaN             NaN  right_only  \n",
       "5497                           NaN             NaN  right_only  \n",
       "2511                           NaN             NaN  right_only  \n",
       "605   ISH W EX SW S/C EQ IN-X0NCHF  Open-End Funds        both  \n",
       "2512                           NaN             NaN  right_only  \n",
       "2527  LEGG MAS WES AST STR OP-AUSD  Open-End Funds        both  "
      ]
     },
     "execution_count": 20,
     "metadata": {},
     "output_type": "execute_result"
    }
   ],
   "source": [
    "df.nlargest(10, 'Market Value CHF')"
   ]
  },
  {
   "cell_type": "markdown",
   "id": "a29f1829",
   "metadata": {},
   "source": [
    "#### Comptabiliser les montants investis par groupe d'activité"
   ]
  },
  {
   "cell_type": "markdown",
   "id": "40f6b430",
   "metadata": {},
   "source": [
    "#### Oil & Gas"
   ]
  },
  {
   "cell_type": "code",
   "execution_count": 21,
   "id": "2acccde3",
   "metadata": {},
   "outputs": [
    {
     "data": {
      "text/html": [
       "<div>\n",
       "<style scoped>\n",
       "    .dataframe tbody tr th:only-of-type {\n",
       "        vertical-align: middle;\n",
       "    }\n",
       "\n",
       "    .dataframe tbody tr th {\n",
       "        vertical-align: top;\n",
       "    }\n",
       "\n",
       "    .dataframe thead th {\n",
       "        text-align: right;\n",
       "    }\n",
       "</style>\n",
       "<table border=\"1\" class=\"dataframe\">\n",
       "  <thead>\n",
       "    <tr style=\"text-align: right;\">\n",
       "      <th></th>\n",
       "      <th>Company Name</th>\n",
       "      <th>Gruppe</th>\n",
       "      <th>Market Value CHF</th>\n",
       "    </tr>\n",
       "  </thead>\n",
       "  <tbody>\n",
       "    <tr>\n",
       "      <th>0</th>\n",
       "      <td>Schlumberger NV</td>\n",
       "      <td>Oil&amp;Gas Services</td>\n",
       "      <td>2464566.0</td>\n",
       "    </tr>\n",
       "    <tr>\n",
       "      <th>3</th>\n",
       "      <td>OMV AG</td>\n",
       "      <td>Oil&amp;Gas</td>\n",
       "      <td>2020998.0</td>\n",
       "    </tr>\n",
       "    <tr>\n",
       "      <th>29</th>\n",
       "      <td>APA Group</td>\n",
       "      <td>Pipelines</td>\n",
       "      <td>958913.0</td>\n",
       "    </tr>\n",
       "    <tr>\n",
       "      <th>69</th>\n",
       "      <td>Santos Ltd</td>\n",
       "      <td>Oil&amp;Gas</td>\n",
       "      <td>1724301.0</td>\n",
       "    </tr>\n",
       "    <tr>\n",
       "      <th>87</th>\n",
       "      <td>Ampol Ltd</td>\n",
       "      <td>Oil&amp;Gas</td>\n",
       "      <td>583730.0</td>\n",
       "    </tr>\n",
       "  </tbody>\n",
       "</table>\n",
       "</div>"
      ],
      "text/plain": [
       "       Company Name            Gruppe  Market Value CHF\n",
       "0   Schlumberger NV  Oil&Gas Services         2464566.0\n",
       "3            OMV AG           Oil&Gas         2020998.0\n",
       "29        APA Group         Pipelines          958913.0\n",
       "69       Santos Ltd           Oil&Gas         1724301.0\n",
       "87        Ampol Ltd           Oil&Gas          583730.0"
      ]
     },
     "execution_count": 21,
     "metadata": {},
     "output_type": "execute_result"
    }
   ],
   "source": [
    "oil = df[(df['Gruppe'] == 'Oil and gas') | \n",
    "         (df['Gruppe'] == 'Oil&Gas') | \n",
    "         (df['Gruppe'] == 'Oil&Gas Services') |\n",
    "         (df['Gruppe'] == 'Gas') | \n",
    "         (df['Gruppe'] == 'Pipelines') \n",
    "        ]\n",
    "        \n",
    "\n",
    "oil[['Company Name', 'Gruppe', 'Market Value CHF']].head()"
   ]
  },
  {
   "cell_type": "code",
   "execution_count": 22,
   "id": "27c32007",
   "metadata": {},
   "outputs": [
    {
     "data": {
      "text/plain": [
       "620638869.0"
      ]
     },
     "execution_count": 22,
     "metadata": {},
     "output_type": "execute_result"
    }
   ],
   "source": [
    "oil['Market Value CHF'].sum()"
   ]
  },
  {
   "cell_type": "markdown",
   "id": "e11b4d69",
   "metadata": {},
   "source": [
    "#### Tobacco"
   ]
  },
  {
   "cell_type": "code",
   "execution_count": 23,
   "id": "731409c0",
   "metadata": {},
   "outputs": [],
   "source": [
    "tobacco = df[df.apply(lambda row: row.astype(str).str.contains(\"tobacco\", case=False).any(), axis=1)]"
   ]
  },
  {
   "cell_type": "code",
   "execution_count": 24,
   "id": "c1295abf",
   "metadata": {},
   "outputs": [
    {
     "data": {
      "text/plain": [
       "52515777.0"
      ]
     },
     "execution_count": 24,
     "metadata": {},
     "output_type": "execute_result"
    }
   ],
   "source": [
    "tobacco['Market Value CHF'].sum()"
   ]
  },
  {
   "cell_type": "code",
   "execution_count": 25,
   "id": "33eb86fb",
   "metadata": {},
   "outputs": [
    {
     "data": {
      "text/html": [
       "<div>\n",
       "<style scoped>\n",
       "    .dataframe tbody tr th:only-of-type {\n",
       "        vertical-align: middle;\n",
       "    }\n",
       "\n",
       "    .dataframe tbody tr th {\n",
       "        vertical-align: top;\n",
       "    }\n",
       "\n",
       "    .dataframe thead th {\n",
       "        text-align: right;\n",
       "    }\n",
       "</style>\n",
       "<table border=\"1\" class=\"dataframe\">\n",
       "  <thead>\n",
       "    <tr style=\"text-align: right;\">\n",
       "      <th></th>\n",
       "      <th>Company Name</th>\n",
       "      <th>Gruppe</th>\n",
       "      <th>Market Value CHF</th>\n",
       "    </tr>\n",
       "  </thead>\n",
       "  <tbody>\n",
       "    <tr>\n",
       "      <th>604</th>\n",
       "      <td>Philip Morris International Inc</td>\n",
       "      <td>Agriculture</td>\n",
       "      <td>4012000.0</td>\n",
       "    </tr>\n",
       "    <tr>\n",
       "      <th>634</th>\n",
       "      <td>BAT International Finance PLC</td>\n",
       "      <td>Agriculture</td>\n",
       "      <td>1942000.0</td>\n",
       "    </tr>\n",
       "    <tr>\n",
       "      <th>2347</th>\n",
       "      <td>British American Tobacco PLC</td>\n",
       "      <td>Agriculture</td>\n",
       "      <td>9377954.0</td>\n",
       "    </tr>\n",
       "    <tr>\n",
       "      <th>2350</th>\n",
       "      <td>Imperial Brands PLC</td>\n",
       "      <td>Agriculture</td>\n",
       "      <td>2031572.0</td>\n",
       "    </tr>\n",
       "    <tr>\n",
       "      <th>2760</th>\n",
       "      <td>Japan Tobacco Inc</td>\n",
       "      <td>Agriculture</td>\n",
       "      <td>4060238.0</td>\n",
       "    </tr>\n",
       "    <tr>\n",
       "      <th>3060</th>\n",
       "      <td>Swedish Match AB</td>\n",
       "      <td>Agriculture</td>\n",
       "      <td>1609291.0</td>\n",
       "    </tr>\n",
       "    <tr>\n",
       "      <th>3181</th>\n",
       "      <td>Altria Group Inc</td>\n",
       "      <td>Agriculture</td>\n",
       "      <td>3702016.0</td>\n",
       "    </tr>\n",
       "    <tr>\n",
       "      <th>3258</th>\n",
       "      <td>BAT Capital Corp</td>\n",
       "      <td>Agriculture</td>\n",
       "      <td>2362594.0</td>\n",
       "    </tr>\n",
       "    <tr>\n",
       "      <th>3259</th>\n",
       "      <td>BAT Capital Corp</td>\n",
       "      <td>Agriculture</td>\n",
       "      <td>4953195.0</td>\n",
       "    </tr>\n",
       "    <tr>\n",
       "      <th>3260</th>\n",
       "      <td>BAT International Finance PLC</td>\n",
       "      <td>Agriculture</td>\n",
       "      <td>2536086.0</td>\n",
       "    </tr>\n",
       "    <tr>\n",
       "      <th>3261</th>\n",
       "      <td>BAT International Finance PLC</td>\n",
       "      <td>Agriculture</td>\n",
       "      <td>1041276.0</td>\n",
       "    </tr>\n",
       "    <tr>\n",
       "      <th>3262</th>\n",
       "      <td>BAT International Finance PLC</td>\n",
       "      <td>Agriculture</td>\n",
       "      <td>7406929.0</td>\n",
       "    </tr>\n",
       "    <tr>\n",
       "      <th>4134</th>\n",
       "      <td>Philip Morris International Inc</td>\n",
       "      <td>Agriculture</td>\n",
       "      <td>7480626.0</td>\n",
       "    </tr>\n",
       "  </tbody>\n",
       "</table>\n",
       "</div>"
      ],
      "text/plain": [
       "                         Company Name       Gruppe  Market Value CHF\n",
       "604   Philip Morris International Inc  Agriculture         4012000.0\n",
       "634     BAT International Finance PLC  Agriculture         1942000.0\n",
       "2347     British American Tobacco PLC  Agriculture         9377954.0\n",
       "2350              Imperial Brands PLC  Agriculture         2031572.0\n",
       "2760                Japan Tobacco Inc  Agriculture         4060238.0\n",
       "3060                 Swedish Match AB  Agriculture         1609291.0\n",
       "3181                 Altria Group Inc  Agriculture         3702016.0\n",
       "3258                 BAT Capital Corp  Agriculture         2362594.0\n",
       "3259                 BAT Capital Corp  Agriculture         4953195.0\n",
       "3260    BAT International Finance PLC  Agriculture         2536086.0\n",
       "3261    BAT International Finance PLC  Agriculture         1041276.0\n",
       "3262    BAT International Finance PLC  Agriculture         7406929.0\n",
       "4134  Philip Morris International Inc  Agriculture         7480626.0"
      ]
     },
     "execution_count": 25,
     "metadata": {},
     "output_type": "execute_result"
    }
   ],
   "source": [
    "tobacco[['Company Name', 'Gruppe', 'Market Value CHF']]"
   ]
  },
  {
   "cell_type": "markdown",
   "id": "5fe9a880",
   "metadata": {},
   "source": [
    "#### Armes, militaire, défense"
   ]
  },
  {
   "cell_type": "code",
   "execution_count": 26,
   "id": "61d68105",
   "metadata": {},
   "outputs": [
    {
     "data": {
      "text/plain": [
       "30"
      ]
     },
     "execution_count": 26,
     "metadata": {},
     "output_type": "execute_result"
    }
   ],
   "source": [
    "weapons = df[(df['Gruppe'] == 'Aerospace/Defense') | \n",
    "             (df['Untergruppe'] == 'Explosives')\n",
    "            ]\n",
    "\n",
    "len(weapons)\n"
   ]
  },
  {
   "cell_type": "code",
   "execution_count": 27,
   "id": "bbccfba9",
   "metadata": {},
   "outputs": [
    {
     "data": {
      "text/plain": [
       "98385932.0"
      ]
     },
     "execution_count": 27,
     "metadata": {},
     "output_type": "execute_result"
    }
   ],
   "source": [
    "weapons['Market Value CHF'].sum()"
   ]
  },
  {
   "cell_type": "markdown",
   "id": "bb44fb2e",
   "metadata": {},
   "source": [
    "#### Nucléaire"
   ]
  },
  {
   "cell_type": "code",
   "execution_count": 28,
   "id": "d1899b33",
   "metadata": {},
   "outputs": [
    {
     "data": {
      "text/html": [
       "<div>\n",
       "<style scoped>\n",
       "    .dataframe tbody tr th:only-of-type {\n",
       "        vertical-align: middle;\n",
       "    }\n",
       "\n",
       "    .dataframe tbody tr th {\n",
       "        vertical-align: top;\n",
       "    }\n",
       "\n",
       "    .dataframe thead th {\n",
       "        text-align: right;\n",
       "    }\n",
       "</style>\n",
       "<table border=\"1\" class=\"dataframe\">\n",
       "  <thead>\n",
       "    <tr style=\"text-align: right;\">\n",
       "      <th></th>\n",
       "      <th>ISIN</th>\n",
       "      <th>Asset Class</th>\n",
       "      <th>Company Name</th>\n",
       "      <th>Country (P)</th>\n",
       "      <th>Country ISO</th>\n",
       "      <th>Currency</th>\n",
       "      <th>Date</th>\n",
       "      <th>Date.1</th>\n",
       "      <th>Description</th>\n",
       "      <th>Emittent</th>\n",
       "      <th>Gruppe</th>\n",
       "      <th>Kurzname</th>\n",
       "      <th>Land (Risiko)</th>\n",
       "      <th>Market Value CHF</th>\n",
       "      <th>Name</th>\n",
       "      <th>Nominal/Quantity</th>\n",
       "      <th>Sektor</th>\n",
       "      <th>Sitzland</th>\n",
       "      <th>Ticker</th>\n",
       "      <th>Untergruppe</th>\n",
       "      <th>Vollständiger Name</th>\n",
       "      <th>Wertpapiertyp</th>\n",
       "      <th>_merge</th>\n",
       "    </tr>\n",
       "  </thead>\n",
       "  <tbody>\n",
       "    <tr>\n",
       "      <th>1326</th>\n",
       "      <td>CH0485445958</td>\n",
       "      <td>Swiss Franc bonds</td>\n",
       "      <td>Korea Hydro &amp; Nuclear Power Co Ltd</td>\n",
       "      <td>S.Korea</td>\n",
       "      <td>KR</td>\n",
       "      <td>NaN</td>\n",
       "      <td>2022-06-30</td>\n",
       "      <td>NaN</td>\n",
       "      <td>0 KOR HYD 24 GMTN</td>\n",
       "      <td>KOREA HYDRO &amp; NUCLEAR PO</td>\n",
       "      <td>Electric</td>\n",
       "      <td>KOREA HYDRO &amp; NU</td>\n",
       "      <td>KR</td>\n",
       "      <td>974500.0</td>\n",
       "      <td>KOHNPW 0 07/19/24</td>\n",
       "      <td>CHF 1'000'000</td>\n",
       "      <td>Utilities</td>\n",
       "      <td>KR</td>\n",
       "      <td>KOHNPW</td>\n",
       "      <td>Electric-Generation</td>\n",
       "      <td>KOHNPW 0 07/19/24</td>\n",
       "      <td>Corporate Bonds</td>\n",
       "      <td>both</td>\n",
       "    </tr>\n",
       "    <tr>\n",
       "      <th>1327</th>\n",
       "      <td>CH0485445966</td>\n",
       "      <td>Swiss Franc bonds</td>\n",
       "      <td>Korea Hydro &amp; Nuclear Power Co Ltd</td>\n",
       "      <td>S.Korea</td>\n",
       "      <td>KR</td>\n",
       "      <td>NaN</td>\n",
       "      <td>2022-06-30</td>\n",
       "      <td>NaN</td>\n",
       "      <td>0.05 KOREAHYDRO 27</td>\n",
       "      <td>KOREA HYDRO &amp; NUCLEAR PO</td>\n",
       "      <td>Electric</td>\n",
       "      <td>KOREA HYDRO &amp; NU</td>\n",
       "      <td>KR</td>\n",
       "      <td>914000.0</td>\n",
       "      <td>KOHNPW 0.05 07/19/27</td>\n",
       "      <td>CHF 1'000'000</td>\n",
       "      <td>Utilities</td>\n",
       "      <td>KR</td>\n",
       "      <td>KOHNPW</td>\n",
       "      <td>Electric-Generation</td>\n",
       "      <td>KOHNPW 0.05 07/19/27</td>\n",
       "      <td>Corporate Bonds</td>\n",
       "      <td>both</td>\n",
       "    </tr>\n",
       "  </tbody>\n",
       "</table>\n",
       "</div>"
      ],
      "text/plain": [
       "              ISIN        Asset Class                        Company Name  \\\n",
       "1326  CH0485445958  Swiss Franc bonds  Korea Hydro & Nuclear Power Co Ltd   \n",
       "1327  CH0485445966  Swiss Franc bonds  Korea Hydro & Nuclear Power Co Ltd   \n",
       "\n",
       "     Country (P) Country ISO  Currency       Date Date.1         Description  \\\n",
       "1326     S.Korea          KR       NaN 2022-06-30    NaN   0 KOR HYD 24 GMTN   \n",
       "1327     S.Korea          KR       NaN 2022-06-30    NaN  0.05 KOREAHYDRO 27   \n",
       "\n",
       "                      Emittent    Gruppe          Kurzname Land (Risiko)  \\\n",
       "1326  KOREA HYDRO & NUCLEAR PO  Electric  KOREA HYDRO & NU            KR   \n",
       "1327  KOREA HYDRO & NUCLEAR PO  Electric  KOREA HYDRO & NU            KR   \n",
       "\n",
       "      Market Value CHF                  Name Nominal/Quantity     Sektor  \\\n",
       "1326          974500.0     KOHNPW 0 07/19/24    CHF 1'000'000  Utilities   \n",
       "1327          914000.0  KOHNPW 0.05 07/19/27    CHF 1'000'000  Utilities   \n",
       "\n",
       "     Sitzland  Ticker          Untergruppe    Vollständiger Name  \\\n",
       "1326       KR  KOHNPW  Electric-Generation     KOHNPW 0 07/19/24   \n",
       "1327       KR  KOHNPW  Electric-Generation  KOHNPW 0.05 07/19/27   \n",
       "\n",
       "        Wertpapiertyp _merge  \n",
       "1326  Corporate Bonds   both  \n",
       "1327  Corporate Bonds   both  "
      ]
     },
     "execution_count": 28,
     "metadata": {},
     "output_type": "execute_result"
    }
   ],
   "source": [
    "nuclear = df[df.apply(lambda row: row.astype(str).str.contains('nuclear', case=False).any(), axis=1)]\n",
    "nuclear"
   ]
  },
  {
   "cell_type": "code",
   "execution_count": 29,
   "id": "642e2068",
   "metadata": {},
   "outputs": [
    {
     "data": {
      "text/plain": [
       "1888500.0"
      ]
     },
     "execution_count": 29,
     "metadata": {},
     "output_type": "execute_result"
    }
   ],
   "source": [
    "nuclear['Market Value CHF'].sum()"
   ]
  },
  {
   "cell_type": "markdown",
   "id": "03059495",
   "metadata": {},
   "source": [
    "#### Voitures"
   ]
  },
  {
   "cell_type": "code",
   "execution_count": 30,
   "id": "61c30960",
   "metadata": {},
   "outputs": [
    {
     "data": {
      "text/plain": [
       "367270480.0"
      ]
     },
     "execution_count": 30,
     "metadata": {},
     "output_type": "execute_result"
    }
   ],
   "source": [
    "auto = df[(df['Gruppe'] == 'Auto Parts') | \n",
    "         (df['Gruppe'] == 'Auto ABS') | \n",
    "         (df['Gruppe'] == 'Auto Manufacturers') |\n",
    "         (df['Gruppe'] == 'Auto Parts&Equipment') | \n",
    "         (df['Untergruppe'] == 'Retail-Automobile') | \n",
    "         (df['Untergruppe'] == 'Retail-Auto Parts') | \n",
    "         (df['Untergruppe'] == 'Rental Auto/Equipment')\n",
    "        ]\n",
    "auto['Market Value CHF'].sum()\n"
   ]
  },
  {
   "cell_type": "markdown",
   "id": "a889418e",
   "metadata": {},
   "source": [
    "#### Mining"
   ]
  },
  {
   "cell_type": "code",
   "execution_count": 31,
   "id": "496a808b",
   "metadata": {},
   "outputs": [],
   "source": [
    "mining = df[(df['Gruppe'] == 'Mining')| \n",
    "         (df['Untergruppe'] == 'Machinery-Constr&Mining')\n",
    "           ]\n",
    "\n",
    "\n",
    "\n",
    "mining[['Company Name', 'Gruppe', 'Untergruppe', 'Market Value CHF']].groupby('Company Name')['Market Value CHF'].sum().to_clipboard()"
   ]
  },
  {
   "cell_type": "code",
   "execution_count": 32,
   "id": "3d72c7b7",
   "metadata": {},
   "outputs": [
    {
     "data": {
      "text/plain": [
       "104412840.0"
      ]
     },
     "execution_count": 32,
     "metadata": {},
     "output_type": "execute_result"
    }
   ],
   "source": [
    "mining['Market Value CHF'].sum()"
   ]
  },
  {
   "cell_type": "code",
   "execution_count": 33,
   "id": "0001d3a6",
   "metadata": {},
   "outputs": [
    {
     "data": {
      "text/plain": [
       "array(['BHP Group Ltd', 'Evolution Mining Ltd', 'Newcrest Mining Ltd',\n",
       "       'Northern Star Resources Ltd', 'Rio Tinto Ltd', 'South32 Ltd',\n",
       "       'Silfin NV', 'Agnico Eagle Mines Ltd', 'Barrick Gold Corp',\n",
       "       'Cameco Corp', 'First Quantum Minerals Ltd', 'Franco-Nevada Corp',\n",
       "       'Ivanhoe Mines Ltd', 'Kinross Gold Corp', 'Lundin Mining Corp',\n",
       "       'Pan American Silver Corp', 'Teck Resources Ltd',\n",
       "       'Wheaton Precious Metals Corp', 'Glencore Finance Europe Ltd',\n",
       "       'Glencore Capital Finance DAC', 'Antofagasta PLC', 'Rio Tinto PLC',\n",
       "       'Anglo American PLC', 'Glencore PLC', 'Komatsu Ltd',\n",
       "       'Sumitomo Metal Mining Co Ltd',\n",
       "       'Hitachi Construction Machinery Co Ltd', 'Norsk Hydro ASA',\n",
       "       'Sandvik AB', 'Epiroc AB', 'Boliden AB', 'Alcoa Corp',\n",
       "       'Barrick North America Finance LLC',\n",
       "       'Barrick PD Australia Finance Pty Ltd', 'Caterpillar Inc',\n",
       "       'Caterpillar Financial Services Corp', 'Freeport-McMoRan Inc',\n",
       "       'Newmont Corp', 'BHP Billiton Finance Ltd', 'Metso Outotec Oyj'],\n",
       "      dtype=object)"
      ]
     },
     "execution_count": 33,
     "metadata": {},
     "output_type": "execute_result"
    }
   ],
   "source": [
    "mining['Company Name'].unique()"
   ]
  },
  {
   "cell_type": "markdown",
   "id": "896bb459",
   "metadata": {},
   "source": [
    "#### Total Energies"
   ]
  },
  {
   "cell_type": "code",
   "execution_count": 34,
   "id": "84c49e5f",
   "metadata": {},
   "outputs": [
    {
     "data": {
      "text/plain": [
       "TotalEnergies SE                          6\n",
       "TotalEnergies Capital International SA    3\n",
       "TotalEnergies Capital SA                  1\n",
       "Name: Company Name, dtype: int64"
      ]
     },
     "execution_count": 34,
     "metadata": {},
     "output_type": "execute_result"
    }
   ],
   "source": [
    "total = df[df.apply(lambda row: row.astype(str).str.contains('total', case=False).any(), axis=1)]\n",
    "\n",
    "total['Company Name'].value_counts()"
   ]
  },
  {
   "cell_type": "code",
   "execution_count": 35,
   "id": "3cbdb178",
   "metadata": {},
   "outputs": [
    {
     "data": {
      "text/plain": [
       "57855780.0"
      ]
     },
     "execution_count": 35,
     "metadata": {},
     "output_type": "execute_result"
    }
   ],
   "source": [
    "total['Market Value CHF'].sum()"
   ]
  },
  {
   "cell_type": "markdown",
   "id": "526cf78c",
   "metadata": {},
   "source": [
    "#### Amazon"
   ]
  },
  {
   "cell_type": "code",
   "execution_count": 36,
   "id": "0af70bfc",
   "metadata": {},
   "outputs": [
    {
     "data": {
      "text/plain": [
       "Amazon.com Inc    1\n",
       "Name: Company Name, dtype: int64"
      ]
     },
     "execution_count": 36,
     "metadata": {},
     "output_type": "execute_result"
    }
   ],
   "source": [
    "amazon = df[df.apply(lambda row: row.astype(str).str.contains('amazon', case=False).any(), axis=1)]\n",
    "\n",
    "amazon['Company Name'].value_counts()"
   ]
  },
  {
   "cell_type": "code",
   "execution_count": 37,
   "id": "5750a722",
   "metadata": {},
   "outputs": [
    {
     "data": {
      "text/plain": [
       "47539941.0"
      ]
     },
     "execution_count": 37,
     "metadata": {},
     "output_type": "execute_result"
    }
   ],
   "source": [
    "amazon['Market Value CHF'].sum()"
   ]
  },
  {
   "cell_type": "markdown",
   "id": "73e00020",
   "metadata": {},
   "source": [
    "#### BHP"
   ]
  },
  {
   "cell_type": "code",
   "execution_count": 38,
   "id": "17a8ec20",
   "metadata": {},
   "outputs": [],
   "source": [
    "bhp = df[df.apply(lambda row: row.astype(str).str.contains('BHP', case=False).any(), axis=1)]"
   ]
  },
  {
   "cell_type": "code",
   "execution_count": 39,
   "id": "4fca3ed1",
   "metadata": {},
   "outputs": [
    {
     "data": {
      "text/plain": [
       "20286132.0"
      ]
     },
     "execution_count": 39,
     "metadata": {},
     "output_type": "execute_result"
    }
   ],
   "source": [
    "bhp['Market Value CHF'].sum()"
   ]
  },
  {
   "cell_type": "markdown",
   "id": "55438a9b",
   "metadata": {},
   "source": [
    "#### Energies renouvelables"
   ]
  },
  {
   "cell_type": "code",
   "execution_count": 40,
   "id": "e6e146c8",
   "metadata": {},
   "outputs": [
    {
     "data": {
      "text/plain": [
       "26552636.0"
      ]
     },
     "execution_count": 40,
     "metadata": {},
     "output_type": "execute_result"
    }
   ],
   "source": [
    "en = df[df['Gruppe'] == 'Energy-Alternate Sources']\n",
    "\n",
    "en['Market Value CHF'].sum()"
   ]
  },
  {
   "cell_type": "code",
   "execution_count": 41,
   "id": "cc47ecdb",
   "metadata": {},
   "outputs": [
    {
     "data": {
      "text/html": [
       "<div>\n",
       "<style scoped>\n",
       "    .dataframe tbody tr th:only-of-type {\n",
       "        vertical-align: middle;\n",
       "    }\n",
       "\n",
       "    .dataframe tbody tr th {\n",
       "        vertical-align: top;\n",
       "    }\n",
       "\n",
       "    .dataframe thead th {\n",
       "        text-align: right;\n",
       "    }\n",
       "</style>\n",
       "<table border=\"1\" class=\"dataframe\">\n",
       "  <thead>\n",
       "    <tr style=\"text-align: right;\">\n",
       "      <th></th>\n",
       "      <th>Company Name</th>\n",
       "      <th>Gruppe</th>\n",
       "      <th>Market Value CHF</th>\n",
       "    </tr>\n",
       "  </thead>\n",
       "  <tbody>\n",
       "    <tr>\n",
       "      <th>656</th>\n",
       "      <td>Grande Dixence SA</td>\n",
       "      <td>Energy-Alternate Sources</td>\n",
       "      <td>446400.0</td>\n",
       "    </tr>\n",
       "    <tr>\n",
       "      <th>979</th>\n",
       "      <td>Grande Dixence SA</td>\n",
       "      <td>Energy-Alternate Sources</td>\n",
       "      <td>2000600.0</td>\n",
       "    </tr>\n",
       "    <tr>\n",
       "      <th>1293</th>\n",
       "      <td>Grande Dixence SA</td>\n",
       "      <td>Energy-Alternate Sources</td>\n",
       "      <td>1917000.0</td>\n",
       "    </tr>\n",
       "    <tr>\n",
       "      <th>1568</th>\n",
       "      <td>Grande Dixence SA</td>\n",
       "      <td>Energy-Alternate Sources</td>\n",
       "      <td>892500.0</td>\n",
       "    </tr>\n",
       "    <tr>\n",
       "      <th>2019</th>\n",
       "      <td>Vestas Wind Systems A/S</td>\n",
       "      <td>Energy-Alternate Sources</td>\n",
       "      <td>2188023.0</td>\n",
       "    </tr>\n",
       "    <tr>\n",
       "      <th>2037</th>\n",
       "      <td>Siemens Gamesa Renewable Energy SA</td>\n",
       "      <td>Energy-Alternate Sources</td>\n",
       "      <td>1283801.0</td>\n",
       "    </tr>\n",
       "    <tr>\n",
       "      <th>2452</th>\n",
       "      <td>Atlantica Sustainable Infrastructure PLC</td>\n",
       "      <td>Energy-Alternate Sources</td>\n",
       "      <td>3636357.0</td>\n",
       "    </tr>\n",
       "    <tr>\n",
       "      <th>3112</th>\n",
       "      <td>Maxeon Solar Technologies Ltd</td>\n",
       "      <td>Energy-Alternate Sources</td>\n",
       "      <td>1569201.0</td>\n",
       "    </tr>\n",
       "    <tr>\n",
       "      <th>3605</th>\n",
       "      <td>Enphase Energy Inc</td>\n",
       "      <td>Energy-Alternate Sources</td>\n",
       "      <td>1275307.0</td>\n",
       "    </tr>\n",
       "    <tr>\n",
       "      <th>3672</th>\n",
       "      <td>First Solar Inc</td>\n",
       "      <td>Energy-Alternate Sources</td>\n",
       "      <td>2743789.0</td>\n",
       "    </tr>\n",
       "    <tr>\n",
       "      <th>4149</th>\n",
       "      <td>Plug Power Inc</td>\n",
       "      <td>Energy-Alternate Sources</td>\n",
       "      <td>419441.0</td>\n",
       "    </tr>\n",
       "    <tr>\n",
       "      <th>4261</th>\n",
       "      <td>SolarEdge Technologies Inc</td>\n",
       "      <td>Energy-Alternate Sources</td>\n",
       "      <td>702180.0</td>\n",
       "    </tr>\n",
       "    <tr>\n",
       "      <th>5066</th>\n",
       "      <td>ERG SpA</td>\n",
       "      <td>Energy-Alternate Sources</td>\n",
       "      <td>5195072.0</td>\n",
       "    </tr>\n",
       "    <tr>\n",
       "      <th>5264</th>\n",
       "      <td>EEW Energy from Waste GmbH</td>\n",
       "      <td>Energy-Alternate Sources</td>\n",
       "      <td>974889.0</td>\n",
       "    </tr>\n",
       "    <tr>\n",
       "      <th>5326</th>\n",
       "      <td>Acciona Energia Financiacion Filiales SA</td>\n",
       "      <td>Energy-Alternate Sources</td>\n",
       "      <td>1308076.0</td>\n",
       "    </tr>\n",
       "  </tbody>\n",
       "</table>\n",
       "</div>"
      ],
      "text/plain": [
       "                                  Company Name                    Gruppe  \\\n",
       "656                          Grande Dixence SA  Energy-Alternate Sources   \n",
       "979                          Grande Dixence SA  Energy-Alternate Sources   \n",
       "1293                         Grande Dixence SA  Energy-Alternate Sources   \n",
       "1568                         Grande Dixence SA  Energy-Alternate Sources   \n",
       "2019                   Vestas Wind Systems A/S  Energy-Alternate Sources   \n",
       "2037        Siemens Gamesa Renewable Energy SA  Energy-Alternate Sources   \n",
       "2452  Atlantica Sustainable Infrastructure PLC  Energy-Alternate Sources   \n",
       "3112             Maxeon Solar Technologies Ltd  Energy-Alternate Sources   \n",
       "3605                        Enphase Energy Inc  Energy-Alternate Sources   \n",
       "3672                           First Solar Inc  Energy-Alternate Sources   \n",
       "4149                            Plug Power Inc  Energy-Alternate Sources   \n",
       "4261                SolarEdge Technologies Inc  Energy-Alternate Sources   \n",
       "5066                                   ERG SpA  Energy-Alternate Sources   \n",
       "5264                EEW Energy from Waste GmbH  Energy-Alternate Sources   \n",
       "5326  Acciona Energia Financiacion Filiales SA  Energy-Alternate Sources   \n",
       "\n",
       "      Market Value CHF  \n",
       "656           446400.0  \n",
       "979          2000600.0  \n",
       "1293         1917000.0  \n",
       "1568          892500.0  \n",
       "2019         2188023.0  \n",
       "2037         1283801.0  \n",
       "2452         3636357.0  \n",
       "3112         1569201.0  \n",
       "3605         1275307.0  \n",
       "3672         2743789.0  \n",
       "4149          419441.0  \n",
       "4261          702180.0  \n",
       "5066         5195072.0  \n",
       "5264          974889.0  \n",
       "5326         1308076.0  "
      ]
     },
     "execution_count": 41,
     "metadata": {},
     "output_type": "execute_result"
    }
   ],
   "source": [
    "en[['Company Name', 'Gruppe', 'Market Value CHF']]"
   ]
  },
  {
   "cell_type": "markdown",
   "id": "940e5a6c",
   "metadata": {},
   "source": [
    "#### Viande"
   ]
  },
  {
   "cell_type": "code",
   "execution_count": 42,
   "id": "f799dc77",
   "metadata": {},
   "outputs": [
    {
     "data": {
      "text/html": [
       "<div>\n",
       "<style scoped>\n",
       "    .dataframe tbody tr th:only-of-type {\n",
       "        vertical-align: middle;\n",
       "    }\n",
       "\n",
       "    .dataframe tbody tr th {\n",
       "        vertical-align: top;\n",
       "    }\n",
       "\n",
       "    .dataframe thead th {\n",
       "        text-align: right;\n",
       "    }\n",
       "</style>\n",
       "<table border=\"1\" class=\"dataframe\">\n",
       "  <thead>\n",
       "    <tr style=\"text-align: right;\">\n",
       "      <th></th>\n",
       "      <th>Company Name</th>\n",
       "      <th>Gruppe</th>\n",
       "      <th>Market Value CHF</th>\n",
       "    </tr>\n",
       "  </thead>\n",
       "  <tbody>\n",
       "    <tr>\n",
       "      <th>800</th>\n",
       "      <td>Bell Food Group AG</td>\n",
       "      <td>Food</td>\n",
       "      <td>2624400.0</td>\n",
       "    </tr>\n",
       "    <tr>\n",
       "      <th>1050</th>\n",
       "      <td>Bell Food Group AG</td>\n",
       "      <td>Food</td>\n",
       "      <td>1820400.0</td>\n",
       "    </tr>\n",
       "    <tr>\n",
       "      <th>1051</th>\n",
       "      <td>Bell Food Group AG</td>\n",
       "      <td>Food</td>\n",
       "      <td>926000.0</td>\n",
       "    </tr>\n",
       "    <tr>\n",
       "      <th>1741</th>\n",
       "      <td>Bell Food Group AG</td>\n",
       "      <td>Food</td>\n",
       "      <td>2384375.0</td>\n",
       "    </tr>\n",
       "    <tr>\n",
       "      <th>2873</th>\n",
       "      <td>WH Group Ltd</td>\n",
       "      <td>Food</td>\n",
       "      <td>671707.0</td>\n",
       "    </tr>\n",
       "    <tr>\n",
       "      <th>3769</th>\n",
       "      <td>Hormel Foods Corp</td>\n",
       "      <td>Food</td>\n",
       "      <td>692026.0</td>\n",
       "    </tr>\n",
       "    <tr>\n",
       "      <th>3826</th>\n",
       "      <td>JBS USA LUX SA / JBS USA Food Co / JBS USA Fin...</td>\n",
       "      <td>Food</td>\n",
       "      <td>4535446.0</td>\n",
       "    </tr>\n",
       "    <tr>\n",
       "      <th>4355</th>\n",
       "      <td>Tyson Foods Inc</td>\n",
       "      <td>Food</td>\n",
       "      <td>1231476.0</td>\n",
       "    </tr>\n",
       "    <tr>\n",
       "      <th>4356</th>\n",
       "      <td>Tyson Foods Inc</td>\n",
       "      <td>Food</td>\n",
       "      <td>3646297.0</td>\n",
       "    </tr>\n",
       "  </tbody>\n",
       "</table>\n",
       "</div>"
      ],
      "text/plain": [
       "                                           Company Name Gruppe  \\\n",
       "800                                  Bell Food Group AG   Food   \n",
       "1050                                 Bell Food Group AG   Food   \n",
       "1051                                 Bell Food Group AG   Food   \n",
       "1741                                 Bell Food Group AG   Food   \n",
       "2873                                       WH Group Ltd   Food   \n",
       "3769                                  Hormel Foods Corp   Food   \n",
       "3826  JBS USA LUX SA / JBS USA Food Co / JBS USA Fin...   Food   \n",
       "4355                                    Tyson Foods Inc   Food   \n",
       "4356                                    Tyson Foods Inc   Food   \n",
       "\n",
       "      Market Value CHF  \n",
       "800          2624400.0  \n",
       "1050         1820400.0  \n",
       "1051          926000.0  \n",
       "1741         2384375.0  \n",
       "2873          671707.0  \n",
       "3769          692026.0  \n",
       "3826         4535446.0  \n",
       "4355         1231476.0  \n",
       "4356         3646297.0  "
      ]
     },
     "execution_count": 42,
     "metadata": {},
     "output_type": "execute_result"
    }
   ],
   "source": [
    "viande = df[df['Untergruppe'] == 'Food-Meat Products']\n",
    "viande[['Company Name', 'Gruppe', 'Market Value CHF']]"
   ]
  },
  {
   "cell_type": "code",
   "execution_count": 43,
   "id": "742b80ec",
   "metadata": {},
   "outputs": [
    {
     "data": {
      "text/plain": [
       "18532127.0"
      ]
     },
     "execution_count": 43,
     "metadata": {},
     "output_type": "execute_result"
    }
   ],
   "source": [
    "viande['Market Value CHF'].sum()"
   ]
  },
  {
   "cell_type": "markdown",
   "id": "abddc446",
   "metadata": {},
   "source": [
    "#### Eau"
   ]
  },
  {
   "cell_type": "code",
   "execution_count": 44,
   "id": "c1f5cd97",
   "metadata": {},
   "outputs": [
    {
     "data": {
      "text/plain": [
       "Water                    7\n",
       "Banks                    7\n",
       "Environmental Control    3\n",
       "Machinery-Diversified    1\n",
       "Healthcare-Products      1\n",
       "Name: Gruppe, dtype: int64"
      ]
     },
     "execution_count": 44,
     "metadata": {},
     "output_type": "execute_result"
    }
   ],
   "source": [
    "df[df.apply(lambda row: row.astype(str).str.contains('water', case=False).any(), axis=1)]['Gruppe'].value_counts()"
   ]
  },
  {
   "cell_type": "code",
   "execution_count": 45,
   "id": "b6e333cb",
   "metadata": {},
   "outputs": [],
   "source": [
    "eau = df[df['Gruppe'] == 'Water']\n"
   ]
  },
  {
   "cell_type": "code",
   "execution_count": 46,
   "id": "89ea2f43",
   "metadata": {},
   "outputs": [
    {
     "data": {
      "text/plain": [
       "12519789.0"
      ]
     },
     "execution_count": 46,
     "metadata": {},
     "output_type": "execute_result"
    }
   ],
   "source": [
    "eau['Market Value CHF'].sum()"
   ]
  },
  {
   "cell_type": "code",
   "execution_count": 47,
   "id": "c6e91938",
   "metadata": {},
   "outputs": [
    {
     "data": {
      "text/html": [
       "<div>\n",
       "<style scoped>\n",
       "    .dataframe tbody tr th:only-of-type {\n",
       "        vertical-align: middle;\n",
       "    }\n",
       "\n",
       "    .dataframe tbody tr th {\n",
       "        vertical-align: top;\n",
       "    }\n",
       "\n",
       "    .dataframe thead th {\n",
       "        text-align: right;\n",
       "    }\n",
       "</style>\n",
       "<table border=\"1\" class=\"dataframe\">\n",
       "  <thead>\n",
       "    <tr style=\"text-align: right;\">\n",
       "      <th></th>\n",
       "      <th>ISIN</th>\n",
       "      <th>Asset Class</th>\n",
       "      <th>Company Name</th>\n",
       "      <th>Country (P)</th>\n",
       "      <th>Country ISO</th>\n",
       "      <th>Currency</th>\n",
       "      <th>Date</th>\n",
       "      <th>Date.1</th>\n",
       "      <th>Description</th>\n",
       "      <th>Emittent</th>\n",
       "      <th>Gruppe</th>\n",
       "      <th>Kurzname</th>\n",
       "      <th>Land (Risiko)</th>\n",
       "      <th>Market Value CHF</th>\n",
       "      <th>Name</th>\n",
       "      <th>Nominal/Quantity</th>\n",
       "      <th>Sektor</th>\n",
       "      <th>Sitzland</th>\n",
       "      <th>Ticker</th>\n",
       "      <th>Untergruppe</th>\n",
       "      <th>Vollständiger Name</th>\n",
       "      <th>Wertpapiertyp</th>\n",
       "      <th>_merge</th>\n",
       "    </tr>\n",
       "  </thead>\n",
       "  <tbody>\n",
       "    <tr>\n",
       "      <th>1181</th>\n",
       "      <td>CH0429659623</td>\n",
       "      <td>Swiss Franc bonds</td>\n",
       "      <td>Korea Water Resources Corp</td>\n",
       "      <td>S.Korea</td>\n",
       "      <td>KR</td>\n",
       "      <td>NaN</td>\n",
       "      <td>2022-06-30</td>\n",
       "      <td>NaN</td>\n",
       "      <td>0.15 KOREAWATER 23</td>\n",
       "      <td>KOREA WATER RESOURCES</td>\n",
       "      <td>Water</td>\n",
       "      <td>KOREA WATER RESO</td>\n",
       "      <td>KR</td>\n",
       "      <td>988900.0</td>\n",
       "      <td>KORWAT 0.15 09/20/23</td>\n",
       "      <td>CHF 1'000'000</td>\n",
       "      <td>Utilities</td>\n",
       "      <td>KR</td>\n",
       "      <td>KORWAT</td>\n",
       "      <td>Water</td>\n",
       "      <td>KORWAT 0.15 09/20/23</td>\n",
       "      <td>Corporate Bonds</td>\n",
       "      <td>both</td>\n",
       "    </tr>\n",
       "    <tr>\n",
       "      <th>2110</th>\n",
       "      <td>FR0000124141</td>\n",
       "      <td>Equities</td>\n",
       "      <td>Veolia Environnement SA</td>\n",
       "      <td>France</td>\n",
       "      <td>0</td>\n",
       "      <td>NaN</td>\n",
       "      <td>2022-06-30</td>\n",
       "      <td>NaN</td>\n",
       "      <td>VEOLIA ENVIRONNEM.</td>\n",
       "      <td>Veolia Environnement SA</td>\n",
       "      <td>Water</td>\n",
       "      <td>VEOLIA ENVIRONNE</td>\n",
       "      <td>FR</td>\n",
       "      <td>4744927.0</td>\n",
       "      <td>VEOLIA ENVIRONNEMENT</td>\n",
       "      <td>203'557</td>\n",
       "      <td>Utilities</td>\n",
       "      <td>FR</td>\n",
       "      <td>VIE</td>\n",
       "      <td>Water</td>\n",
       "      <td>VEOLIA ENVIRONNEMENT</td>\n",
       "      <td>Common Stocks</td>\n",
       "      <td>both</td>\n",
       "    </tr>\n",
       "    <tr>\n",
       "      <th>2392</th>\n",
       "      <td>GB00B1FH8J72</td>\n",
       "      <td>Equities</td>\n",
       "      <td>Severn Trent PLC</td>\n",
       "      <td>United Kingdom</td>\n",
       "      <td>0</td>\n",
       "      <td>NaN</td>\n",
       "      <td>2022-06-30</td>\n",
       "      <td>NaN</td>\n",
       "      <td>SEVERN TRENT RG</td>\n",
       "      <td>Severn Trent PLC</td>\n",
       "      <td>Water</td>\n",
       "      <td>SEVERN TRENT</td>\n",
       "      <td>GB</td>\n",
       "      <td>826004.0</td>\n",
       "      <td>SEVERN TRENT PLC</td>\n",
       "      <td>26'129</td>\n",
       "      <td>Utilities</td>\n",
       "      <td>GB</td>\n",
       "      <td>SVT</td>\n",
       "      <td>Water</td>\n",
       "      <td>SEVERN TRENT PLC</td>\n",
       "      <td>Common Stocks</td>\n",
       "      <td>both</td>\n",
       "    </tr>\n",
       "    <tr>\n",
       "      <th>2403</th>\n",
       "      <td>GB00B39J2M42</td>\n",
       "      <td>Equities</td>\n",
       "      <td>United Utilities Group PLC</td>\n",
       "      <td>United Kingdom</td>\n",
       "      <td>0</td>\n",
       "      <td>NaN</td>\n",
       "      <td>2022-06-30</td>\n",
       "      <td>NaN</td>\n",
       "      <td>UNITED UTILITIES RG</td>\n",
       "      <td>United Utilities Group PLC</td>\n",
       "      <td>Water</td>\n",
       "      <td>UNITED UTILITIES</td>\n",
       "      <td>GB</td>\n",
       "      <td>844235.0</td>\n",
       "      <td>UNITED UTILITIES GROUP PLC</td>\n",
       "      <td>71'189</td>\n",
       "      <td>Utilities</td>\n",
       "      <td>GB</td>\n",
       "      <td>UU/</td>\n",
       "      <td>Water</td>\n",
       "      <td>UNITED UTILITIES GROUP PLC</td>\n",
       "      <td>Common Stocks</td>\n",
       "      <td>both</td>\n",
       "    </tr>\n",
       "    <tr>\n",
       "      <th>3197</th>\n",
       "      <td>US0304201033</td>\n",
       "      <td>Equities</td>\n",
       "      <td>American Water Works Co Inc</td>\n",
       "      <td>United States</td>\n",
       "      <td>0</td>\n",
       "      <td>NaN</td>\n",
       "      <td>2022-06-30</td>\n",
       "      <td>NaN</td>\n",
       "      <td>AMER WTR WORKS RG</td>\n",
       "      <td>American Water Works Co Inc</td>\n",
       "      <td>Water</td>\n",
       "      <td>AMERICAN WATER W</td>\n",
       "      <td>US</td>\n",
       "      <td>1328682.0</td>\n",
       "      <td>AMERICAN WATER WORKS CO INC</td>\n",
       "      <td>9'329</td>\n",
       "      <td>Utilities</td>\n",
       "      <td>US</td>\n",
       "      <td>AWK</td>\n",
       "      <td>Water</td>\n",
       "      <td>AMERICAN WATER WORKS CO INC</td>\n",
       "      <td>Common Stocks</td>\n",
       "      <td>both</td>\n",
       "    </tr>\n",
       "    <tr>\n",
       "      <th>3631</th>\n",
       "      <td>US29670G1022</td>\n",
       "      <td>Equities</td>\n",
       "      <td>Essential Utilities Inc</td>\n",
       "      <td>United States</td>\n",
       "      <td>0</td>\n",
       "      <td>NaN</td>\n",
       "      <td>2022-06-30</td>\n",
       "      <td>NaN</td>\n",
       "      <td>ESSENTIAL UTIL RG</td>\n",
       "      <td>Essential Utilities Inc</td>\n",
       "      <td>Water</td>\n",
       "      <td>ESSENTIAL UTILIT</td>\n",
       "      <td>US</td>\n",
       "      <td>547803.0</td>\n",
       "      <td>ESSENTIAL UTILITIES INC</td>\n",
       "      <td>12'480</td>\n",
       "      <td>Utilities</td>\n",
       "      <td>US</td>\n",
       "      <td>WTRG</td>\n",
       "      <td>Water</td>\n",
       "      <td>ESSENTIAL UTILITIES INC</td>\n",
       "      <td>Common Stocks</td>\n",
       "      <td>both</td>\n",
       "    </tr>\n",
       "    <tr>\n",
       "      <th>4776</th>\n",
       "      <td>XS1627343186</td>\n",
       "      <td>Foreign Currency bonds</td>\n",
       "      <td>FCC Aqualia SA</td>\n",
       "      <td>Spain</td>\n",
       "      <td>ES</td>\n",
       "      <td>NaN</td>\n",
       "      <td>2021-12-31</td>\n",
       "      <td>NaN</td>\n",
       "      <td>2.629 FCC AQUALIA27</td>\n",
       "      <td>FCC AQUALIA SA</td>\n",
       "      <td>Water</td>\n",
       "      <td>FCC AQUALIA SA</td>\n",
       "      <td>ES</td>\n",
       "      <td>3239238.0</td>\n",
       "      <td>AQUASM 2.629 06/08/27</td>\n",
       "      <td>EUR 3'500'000</td>\n",
       "      <td>Utilities</td>\n",
       "      <td>ES</td>\n",
       "      <td>AQUASM</td>\n",
       "      <td>Water</td>\n",
       "      <td>AQUASM 2.629 06/08/27</td>\n",
       "      <td>Corporate Bonds</td>\n",
       "      <td>both</td>\n",
       "    </tr>\n",
       "  </tbody>\n",
       "</table>\n",
       "</div>"
      ],
      "text/plain": [
       "              ISIN             Asset Class                 Company Name  \\\n",
       "1181  CH0429659623       Swiss Franc bonds   Korea Water Resources Corp   \n",
       "2110  FR0000124141                Equities      Veolia Environnement SA   \n",
       "2392  GB00B1FH8J72                Equities             Severn Trent PLC   \n",
       "2403  GB00B39J2M42                Equities   United Utilities Group PLC   \n",
       "3197  US0304201033                Equities  American Water Works Co Inc   \n",
       "3631  US29670G1022                Equities      Essential Utilities Inc   \n",
       "4776  XS1627343186  Foreign Currency bonds               FCC Aqualia SA   \n",
       "\n",
       "         Country (P) Country ISO  Currency       Date Date.1  \\\n",
       "1181         S.Korea          KR       NaN 2022-06-30    NaN   \n",
       "2110          France           0       NaN 2022-06-30    NaN   \n",
       "2392  United Kingdom           0       NaN 2022-06-30    NaN   \n",
       "2403  United Kingdom           0       NaN 2022-06-30    NaN   \n",
       "3197   United States           0       NaN 2022-06-30    NaN   \n",
       "3631   United States           0       NaN 2022-06-30    NaN   \n",
       "4776           Spain          ES       NaN 2021-12-31    NaN   \n",
       "\n",
       "              Description                     Emittent Gruppe  \\\n",
       "1181   0.15 KOREAWATER 23        KOREA WATER RESOURCES  Water   \n",
       "2110   VEOLIA ENVIRONNEM.      Veolia Environnement SA  Water   \n",
       "2392      SEVERN TRENT RG             Severn Trent PLC  Water   \n",
       "2403  UNITED UTILITIES RG   United Utilities Group PLC  Water   \n",
       "3197    AMER WTR WORKS RG  American Water Works Co Inc  Water   \n",
       "3631    ESSENTIAL UTIL RG      Essential Utilities Inc  Water   \n",
       "4776  2.629 FCC AQUALIA27               FCC AQUALIA SA  Water   \n",
       "\n",
       "              Kurzname Land (Risiko)  Market Value CHF  \\\n",
       "1181  KOREA WATER RESO            KR          988900.0   \n",
       "2110  VEOLIA ENVIRONNE            FR         4744927.0   \n",
       "2392      SEVERN TRENT            GB          826004.0   \n",
       "2403  UNITED UTILITIES            GB          844235.0   \n",
       "3197  AMERICAN WATER W            US         1328682.0   \n",
       "3631  ESSENTIAL UTILIT            US          547803.0   \n",
       "4776    FCC AQUALIA SA            ES         3239238.0   \n",
       "\n",
       "                             Name Nominal/Quantity     Sektor Sitzland  \\\n",
       "1181         KORWAT 0.15 09/20/23    CHF 1'000'000  Utilities       KR   \n",
       "2110         VEOLIA ENVIRONNEMENT          203'557  Utilities       FR   \n",
       "2392             SEVERN TRENT PLC           26'129  Utilities       GB   \n",
       "2403   UNITED UTILITIES GROUP PLC           71'189  Utilities       GB   \n",
       "3197  AMERICAN WATER WORKS CO INC            9'329  Utilities       US   \n",
       "3631      ESSENTIAL UTILITIES INC           12'480  Utilities       US   \n",
       "4776        AQUASM 2.629 06/08/27    EUR 3'500'000  Utilities       ES   \n",
       "\n",
       "      Ticker Untergruppe           Vollständiger Name    Wertpapiertyp _merge  \n",
       "1181  KORWAT       Water         KORWAT 0.15 09/20/23  Corporate Bonds   both  \n",
       "2110     VIE       Water         VEOLIA ENVIRONNEMENT    Common Stocks   both  \n",
       "2392     SVT       Water             SEVERN TRENT PLC    Common Stocks   both  \n",
       "2403     UU/       Water   UNITED UTILITIES GROUP PLC    Common Stocks   both  \n",
       "3197     AWK       Water  AMERICAN WATER WORKS CO INC    Common Stocks   both  \n",
       "3631    WTRG       Water      ESSENTIAL UTILITIES INC    Common Stocks   both  \n",
       "4776  AQUASM       Water        AQUASM 2.629 06/08/27  Corporate Bonds   both  "
      ]
     },
     "execution_count": 47,
     "metadata": {},
     "output_type": "execute_result"
    }
   ],
   "source": [
    "eau"
   ]
  },
  {
   "cell_type": "code",
   "execution_count": 48,
   "id": "d7a89204",
   "metadata": {},
   "outputs": [
    {
     "data": {
      "text/plain": [
       "12519789.0"
      ]
     },
     "execution_count": 48,
     "metadata": {},
     "output_type": "execute_result"
    }
   ],
   "source": [
    "eau['Market Value CHF'].sum()"
   ]
  },
  {
   "cell_type": "markdown",
   "id": "76a6811b",
   "metadata": {},
   "source": [
    "#### Papier"
   ]
  },
  {
   "cell_type": "code",
   "execution_count": 49,
   "id": "ae0bb4bb",
   "metadata": {},
   "outputs": [],
   "source": [
    "papier = df[df['Gruppe'] == 'Forest Products&Paper']"
   ]
  },
  {
   "cell_type": "code",
   "execution_count": 50,
   "id": "b925300b",
   "metadata": {},
   "outputs": [
    {
     "data": {
      "text/plain": [
       "14060044.0"
      ]
     },
     "execution_count": 50,
     "metadata": {},
     "output_type": "execute_result"
    }
   ],
   "source": [
    "papier['Market Value CHF'].sum()"
   ]
  },
  {
   "cell_type": "markdown",
   "id": "88c2fd38",
   "metadata": {},
   "source": [
    "#### Air travel\n"
   ]
  },
  {
   "cell_type": "code",
   "execution_count": 51,
   "id": "8b698269",
   "metadata": {},
   "outputs": [
    {
     "data": {
      "text/plain": [
       "Company Name\n",
       "ANA Holdings Inc                                        565397.0\n",
       "Aena SME SA                                            2801347.0\n",
       "Aeroport International de Geneve                       6396600.0\n",
       "Aeroporti di Roma SpA                                   447205.0\n",
       "Aeroports de Paris                                     1086168.0\n",
       "Air Canada                                              104079.0\n",
       "Auckland International Airport Ltd                      585635.0\n",
       "Avinor AS                                               658647.0\n",
       "Brussels Airport Co SA                                 2041758.0\n",
       "DAA Finance PLC                                         822308.0\n",
       "Delta Air Lines Inc                                     231194.0\n",
       "Delta Air Lines Inc / SkyMiles IP Ltd                  2754475.0\n",
       "Deutsche Lufthansa AG                                  1001592.0\n",
       "Flughafen Zurich AG                                   28866040.0\n",
       "Heathrow Funding Ltd                                  10744620.0\n",
       "Japan Airlines Co Ltd                                   484130.0\n",
       "Qantas Airways Ltd                                      298557.0\n",
       "Royal Schiphol Group NV                                2153504.0\n",
       "Ryanair DAC                                            3795417.0\n",
       "Singapore Airlines Ltd                                  509404.0\n",
       "Southwest Airlines Co                                 13927750.0\n",
       "United Airlines 2016-1 Class AA Pass Through Trust     5227045.0\n",
       "United Airlines 2019-2 Class AA Pass Through Trust      853538.0\n",
       "easyJet FinCo BV                                        808046.0\n",
       "Name: Market Value CHF, dtype: float64"
      ]
     },
     "execution_count": 51,
     "metadata": {},
     "output_type": "execute_result"
    }
   ],
   "source": [
    "df[(df['Gruppe'] == 'Airlines') | (df['Untergruppe'] == 'Airport Develop/Maint')][['Company Name', 'Gruppe', 'Untergruppe', 'Market Value CHF']].groupby('Company Name')['Market Value CHF'].sum()"
   ]
  },
  {
   "cell_type": "code",
   "execution_count": 52,
   "id": "5be0fa9f",
   "metadata": {},
   "outputs": [
    {
     "data": {
      "text/plain": [
       "87164456.0"
      ]
     },
     "execution_count": 52,
     "metadata": {},
     "output_type": "execute_result"
    }
   ],
   "source": [
    "df[(df['Gruppe'] == 'Airlines') | (df['Untergruppe'] == 'Airport Develop/Maint')]['Market Value CHF'].sum()"
   ]
  },
  {
   "cell_type": "code",
   "execution_count": 53,
   "id": "86272690",
   "metadata": {},
   "outputs": [],
   "source": [
    "df[(df['Gruppe'] == 'Airlines') | (df['Untergruppe'] == 'Airport Develop/Maint')].groupby('Company Name')['Market Value CHF'].sum().to_clipboard()"
   ]
  },
  {
   "cell_type": "markdown",
   "id": "ac0f281f",
   "metadata": {},
   "source": [
    "#### Entreprises polémiques"
   ]
  },
  {
   "cell_type": "code",
   "execution_count": 54,
   "id": "ff92444c",
   "metadata": {},
   "outputs": [],
   "source": [
    "target = [\n",
    "\"Amazon\",\n",
    "\"TotalEnergies\",\n",
    "\"Toyota\",\n",
    "\"Engie\",\n",
    "\"Air Liquide\",\n",
    "\"Enel\",\n",
    "\"Iberdrola\",\n",
    "\"Shell\",\n",
    "\"Exxon\",\n",
    "\"Gulf Power\",\n",
    "\"Vinci\",\n",
    "\"Var Energi\",\n",
    "\"Monongahela Power Company - Mon Power\",\n",
    "\"Monongahela\",\n",
    "\"Philip Morris PMI\",\n",
    "\"PMI\",\n",
    "\"Philip Morris\",\n",
    "\"Airbus\",\n",
    "\"Flughafen Zurich\",\n",
    "\"ZRH\",\n",
    "\"Safran\",\n",
    "\"Dassault\",\n",
    "\"SIKA\",\n",
    "\"Holcim\",\n",
    "\"Danone\",\n",
    "\"Shin-Etsu Chemical\",\n",
    "\"Shin-Etsu\",\n",
    "\"Pepsi\",\n",
    "\"Bayer\",\n",
    "\"Pernod-Ricard\",\n",
    "\"Diageo\",\n",
    "\"Lonza\",\n",
    "\"Henkel\",\n",
    "\"Walmart\",\n",
    "\"BASF\",\n",
    "\"Nestlé\",\n",
    "\"Coca Cola\",\n",
    "\"Unilever\",\n",
    "\"Procter and Gamble\",\n",
    "\"Procter & Gamble\",\n",
    "\"Procter&Gamble\",\n",
    "\"Mercedes\",\n",
    "\"Tesla\",\n",
    "\"Mitsubishi\",\n",
    "\"Schneider Electric\",\n",
    "\"ABB\",\n",
    "\"LVMH\",\n",
    "\"Siemens\",\n",
    "\"Stellantis\",\n",
    "\"Huntington Ingalls Industries Inc\",\n",
    "\"Huntington Ingalls\",\n",
    "\"BHP Ltd\",\n",
    "\"EDF\",\n",
    "\"Arcelor Mittal\",\n",
    "\"Air Canada\",\n",
    "\"Continental Airlines\",\n",
    "\"Cimic group\",\n",
    "\"Ballard Systems Power\",\n",
    "\"Atco ltd/Canada\",\n",
    "\"Ivanhoe Mines Ltd\",\n",
    "\"Pan American Silver Corp\",\n",
    "\"Lundin Mining Corp\",\n",
    "\"Fresnillo PLC\",\n",
    "\"Magellan Midstream Partner\",\n",
    "\"Parkland Corp\",\n",
    "\"Yamana Gold inc\",\n",
    "\"Kinross Gold\",\n",
    "\"Keyera corp\",\n",
    "\"Delta Airlines\",\n",
    "\"B2 Gold corp\",\n",
    "\"AltaGas LTD\",\n",
    "\"Heico Corp\",\n",
    "\"SouthWest Airlines\",\n",
    "\"Mercury NZ\",\n",
    "\"Qantas Airways\",\n",
    "\"Qantas\",\n",
    "\"Diamondback Energy inc\",\n",
    "\"Evolution mining ltd\",\n",
    "\"Air China\",\n",
    "\"Coal india\",\n",
    "\"Indian oil\",\n",
    "\"Petronas\",\n",
    "\"Polish oil and gas company\",\n",
    "\"Ugi corp\",\n",
    "\"Imperial oil ltd\"]"
   ]
  },
  {
   "cell_type": "code",
   "execution_count": 55,
   "id": "4038ca6c",
   "metadata": {},
   "outputs": [
    {
     "ename": "NameError",
     "evalue": "name 'df_target' is not defined",
     "output_type": "error",
     "traceback": [
      "\u001b[0;31m---------------------------------------------------------------------------\u001b[0m",
      "\u001b[0;31mNameError\u001b[0m                                 Traceback (most recent call last)",
      "\u001b[0;32m<ipython-input-55-6d25340fa570>\u001b[0m in \u001b[0;36m<module>\u001b[0;34m\u001b[0m\n\u001b[1;32m      1\u001b[0m \u001b[0;31m#df_target = df[df.apply(lambda row: row.astype(str).str.contains('|'.join(target), case=False).any(), axis=1)]\u001b[0m\u001b[0;34m\u001b[0m\u001b[0;34m\u001b[0m\u001b[0;34m\u001b[0m\u001b[0m\n\u001b[0;32m----> 2\u001b[0;31m \u001b[0mdf_target\u001b[0m\u001b[0;34m.\u001b[0m\u001b[0mgroupby\u001b[0m\u001b[0;34m(\u001b[0m\u001b[0;34m'Company Name'\u001b[0m\u001b[0;34m)\u001b[0m\u001b[0;34m[\u001b[0m\u001b[0;34m'Market Value CHF'\u001b[0m\u001b[0;34m]\u001b[0m\u001b[0;34m.\u001b[0m\u001b[0msum\u001b[0m\u001b[0;34m(\u001b[0m\u001b[0;34m)\u001b[0m\u001b[0;34m.\u001b[0m\u001b[0mto_clipboard\u001b[0m\u001b[0;34m(\u001b[0m\u001b[0;34m)\u001b[0m\u001b[0;34m\u001b[0m\u001b[0;34m\u001b[0m\u001b[0m\n\u001b[0m",
      "\u001b[0;31mNameError\u001b[0m: name 'df_target' is not defined"
     ]
    }
   ],
   "source": [
    "#df_target = df[df.apply(lambda row: row.astype(str).str.contains('|'.join(target), case=False).any(), axis=1)]\n",
    "df_target.groupby('Company Name')['Market Value CHF'].sum().to_clipboard()"
   ]
  },
  {
   "cell_type": "markdown",
   "id": "c2a8431b",
   "metadata": {},
   "source": [
    "#### Check environnemental"
   ]
  },
  {
   "cell_type": "code",
   "execution_count": null,
   "id": "d6fce6b0",
   "metadata": {},
   "outputs": [],
   "source": [
    "env = ['Albioma',\n",
    " 'Alpha Metallurgical',\n",
    " 'Ameren',\n",
    " 'American Electric Power',\n",
    " 'Arch Resources',\n",
    " 'Athabasca',\n",
    " 'BP p.l.c.',\n",
    " 'British Petroleum',\n",
    " 'Berry Corp',\n",
    " 'Buzzi Unicem',\n",
    " 'CF Industries',\n",
    " 'Canadian Natural Resources',\n",
    " 'Chevron',\n",
    " 'Coronado Global Resources',\n",
    " 'Denbury',\n",
    " 'Electric Power Development',\n",
    " 'Eni S.p.A.',\n",
    " 'Eni SpA',\n",
    " 'Entergy Corp',\n",
    " 'Equinor',\n",
    " 'Exxon',\n",
    " 'HeidelbergCement',\n",
    " 'Hokkaido Electric Power',\n",
    " 'Hokuriku Electric Power',\n",
    " 'Holcim',\n",
    " 'New Hope',\n",
    " 'OCI N.V.',\n",
    " 'OMV AG',\n",
    " 'Repsol',\n",
    " 'Shell',\n",
    " 'Stanmore',\n",
    " 'Sumitomo Osaka Cement',\n",
    " 'Taiheiyo Cement',\n",
    " 'TerraCom',\n",
    " 'AES Corp/The',\n",
    " \"AES Corp\",\n",
    " 'The Scotts Miracle-Gro',\n",
    " 'ScottsMiracle-Gro',\n",
    " 'Southern Company',\n",
    " 'Titan',\n",
    " 'TransAlta',\n",
    " 'TransAlta',\n",
    " 'Vicat',\n",
    " 'Vistra',\n",
    " 'Soul Pattinson',\n",
    " 'WHSP',\n",
    " 'Yara',\n",
    " 'eREX']"
   ]
  },
  {
   "cell_type": "code",
   "execution_count": null,
   "id": "3b14f626",
   "metadata": {},
   "outputs": [],
   "source": [
    "df_env = df[df.apply(lambda row: row.astype(str).str.contains('|'.join(env), case=False).any(), axis=1)]\n",
    "df_env.groupby('Company Name')['Market Value CHF'].sum().to_clipboard()"
   ]
  },
  {
   "cell_type": "code",
   "execution_count": null,
   "id": "d40462e7",
   "metadata": {},
   "outputs": [],
   "source": [
    "len(df_env)"
   ]
  },
  {
   "cell_type": "code",
   "execution_count": null,
   "id": "c2ccf3bf",
   "metadata": {},
   "outputs": [],
   "source": [
    "df_env['Company Name'].value_counts().sort_values(ascending = False)"
   ]
  },
  {
   "cell_type": "markdown",
   "id": "99ffb575",
   "metadata": {},
   "source": [
    "#### Holcim"
   ]
  },
  {
   "cell_type": "code",
   "execution_count": null,
   "id": "762c30b1",
   "metadata": {},
   "outputs": [],
   "source": [
    "holcim = df[df.apply(lambda row: row.astype(str).str.contains('Holcim', case=False).any(), axis=1)]"
   ]
  },
  {
   "cell_type": "code",
   "execution_count": null,
   "id": "b2c2c66b",
   "metadata": {},
   "outputs": [],
   "source": [
    "holcim['Market Value CHF'].sum()"
   ]
  },
  {
   "cell_type": "code",
   "execution_count": null,
   "id": "f8b25d8c",
   "metadata": {},
   "outputs": [],
   "source": [
    "holcim['Date'].value_counts()"
   ]
  },
  {
   "cell_type": "markdown",
   "id": "a563342d",
   "metadata": {},
   "source": [
    "#### 4 entreprises sans vergogne"
   ]
  },
  {
   "cell_type": "code",
   "execution_count": null,
   "id": "af8fdd79",
   "metadata": {},
   "outputs": [],
   "source": [
    "select = ['repsol', 'yara', 'cf industries', 'lundin', 'Aker BP']\n",
    "\n",
    "df[df.apply(lambda row: row.astype(str).str.contains('|'.join(select), case=False).any(), axis=1)]"
   ]
  },
  {
   "cell_type": "code",
   "execution_count": null,
   "id": "6a7d3f9a",
   "metadata": {},
   "outputs": [],
   "source": [
    "df[df.apply(lambda row: row.astype(str).str.contains('|'.join(select), case=False).any(), axis=1)].groupby('Company Name')['Market Value CHF'].sum()\n"
   ]
  },
  {
   "cell_type": "code",
   "execution_count": null,
   "id": "42f20695",
   "metadata": {},
   "outputs": [],
   "source": [
    "df[df.apply(lambda row: row.astype(str).str.contains('Aker BP', case=False).any(), axis=1)]['Market Value CHF'].sum()"
   ]
  },
  {
   "cell_type": "markdown",
   "id": "60e5eac6",
   "metadata": {},
   "source": [
    "#### Russie"
   ]
  },
  {
   "cell_type": "code",
   "execution_count": null,
   "id": "e185bce7",
   "metadata": {},
   "outputs": [],
   "source": [
    "russia = df[df.apply(lambda row: row.astype(str).str.contains('russi', case=False).any(), axis=1)]\n",
    "len(russia)"
   ]
  },
  {
   "cell_type": "code",
   "execution_count": null,
   "id": "afb06a0f",
   "metadata": {},
   "outputs": [],
   "source": [
    "russia"
   ]
  },
  {
   "cell_type": "markdown",
   "id": "ba2c0595",
   "metadata": {},
   "source": [
    "#### Gold"
   ]
  },
  {
   "cell_type": "code",
   "execution_count": null,
   "id": "746cf977",
   "metadata": {},
   "outputs": [],
   "source": [
    "df[df.apply(lambda row: row.astype(str).str.contains('Gold - LBMA Good Delivery Bars', case=False).any(), axis=1)]"
   ]
  },
  {
   "cell_type": "code",
   "execution_count": null,
   "id": "b1aa3b4c",
   "metadata": {},
   "outputs": [],
   "source": [
    "# Pour compléter ces montants, recherche dans le détail du fonds Pictet"
   ]
  },
  {
   "cell_type": "code",
   "execution_count": null,
   "id": "43178f52",
   "metadata": {},
   "outputs": [],
   "source": []
  }
 ],
 "metadata": {
  "kernelspec": {
   "display_name": "Python 3",
   "language": "python",
   "name": "python3"
  },
  "language_info": {
   "codemirror_mode": {
    "name": "ipython",
    "version": 3
   },
   "file_extension": ".py",
   "mimetype": "text/x-python",
   "name": "python",
   "nbconvert_exporter": "python",
   "pygments_lexer": "ipython3",
   "version": "3.8.8"
  }
 },
 "nbformat": 4,
 "nbformat_minor": 5
}
